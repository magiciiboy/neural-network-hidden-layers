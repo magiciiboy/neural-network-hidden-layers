{
 "cells": [
  {
   "cell_type": "markdown",
   "metadata": {},
   "source": [
    "# Experiment of Determining the Number of Hidden Layers #"
   ]
  },
  {
   "cell_type": "markdown",
   "metadata": {},
   "source": [
    "## Motivation ##"
   ]
  },
  {
   "cell_type": "markdown",
   "metadata": {},
   "source": [
    "https://www.heatonresearch.com/2017/06/01/hidden-layers.html\n",
    "\n",
    "Rule-of-thumb methods:\n",
    "\n",
    "- The number of hidden neurons should be between the size of the input layer and the size of the output layer.\n",
    "- The number of hidden neurons should be 2/3 the size of the input layer, plus the size of the output layer.\n",
    "- The number of hidden neurons should be less than twice the size of the input layer."
   ]
  },
  {
   "cell_type": "markdown",
   "metadata": {},
   "source": [
    "## Dataset ##"
   ]
  },
  {
   "cell_type": "code",
   "execution_count": 2,
   "metadata": {},
   "outputs": [],
   "source": [
    "import pandas as pd\n",
    "import numpy as np"
   ]
  },
  {
   "cell_type": "code",
   "execution_count": 3,
   "metadata": {},
   "outputs": [],
   "source": [
    "data = pd.read_csv('./data/hour_preprocessed.csv')"
   ]
  },
  {
   "cell_type": "code",
   "execution_count": 4,
   "metadata": {},
   "outputs": [
    {
     "data": {
      "text/plain": [
       "temp                   float64\n",
       "humidity               float64\n",
       "windspeed              float64\n",
       "hour                     int64\n",
       "weekday                  int64\n",
       "month                    int64\n",
       "year                     int64\n",
       "season_1               float64\n",
       "season_2               float64\n",
       "season_3               float64\n",
       "season_4               float64\n",
       "is_holiday_0           float64\n",
       "is_holiday_1           float64\n",
       "weather_condition_1    float64\n",
       "weather_condition_2    float64\n",
       "weather_condition_3    float64\n",
       "weather_condition_4    float64\n",
       "is_workingday_0        float64\n",
       "is_workingday_1        float64\n",
       "total_count              int64\n",
       "dtype: object"
      ]
     },
     "execution_count": 4,
     "metadata": {},
     "output_type": "execute_result"
    }
   ],
   "source": [
    "data.dtypes"
   ]
  },
  {
   "cell_type": "code",
   "execution_count": 5,
   "metadata": {},
   "outputs": [
    {
     "data": {
      "text/html": [
       "<div>\n",
       "<style scoped>\n",
       "    .dataframe tbody tr th:only-of-type {\n",
       "        vertical-align: middle;\n",
       "    }\n",
       "\n",
       "    .dataframe tbody tr th {\n",
       "        vertical-align: top;\n",
       "    }\n",
       "\n",
       "    .dataframe thead th {\n",
       "        text-align: right;\n",
       "    }\n",
       "</style>\n",
       "<table border=\"1\" class=\"dataframe\">\n",
       "  <thead>\n",
       "    <tr style=\"text-align: right;\">\n",
       "      <th></th>\n",
       "      <th>temp</th>\n",
       "      <th>humidity</th>\n",
       "      <th>windspeed</th>\n",
       "      <th>hour</th>\n",
       "      <th>weekday</th>\n",
       "      <th>month</th>\n",
       "      <th>year</th>\n",
       "      <th>season_1</th>\n",
       "      <th>season_2</th>\n",
       "      <th>season_3</th>\n",
       "      <th>season_4</th>\n",
       "      <th>is_holiday_0</th>\n",
       "      <th>is_holiday_1</th>\n",
       "      <th>weather_condition_1</th>\n",
       "      <th>weather_condition_2</th>\n",
       "      <th>weather_condition_3</th>\n",
       "      <th>weather_condition_4</th>\n",
       "      <th>is_workingday_0</th>\n",
       "      <th>is_workingday_1</th>\n",
       "      <th>total_count</th>\n",
       "    </tr>\n",
       "  </thead>\n",
       "  <tbody>\n",
       "    <tr>\n",
       "      <th>0</th>\n",
       "      <td>0.24</td>\n",
       "      <td>0.81</td>\n",
       "      <td>0.0000</td>\n",
       "      <td>0</td>\n",
       "      <td>6</td>\n",
       "      <td>1</td>\n",
       "      <td>0</td>\n",
       "      <td>1.0</td>\n",
       "      <td>0.0</td>\n",
       "      <td>0.0</td>\n",
       "      <td>0.0</td>\n",
       "      <td>1.0</td>\n",
       "      <td>0.0</td>\n",
       "      <td>1.0</td>\n",
       "      <td>0.0</td>\n",
       "      <td>0.0</td>\n",
       "      <td>0.0</td>\n",
       "      <td>1.0</td>\n",
       "      <td>0.0</td>\n",
       "      <td>16</td>\n",
       "    </tr>\n",
       "    <tr>\n",
       "      <th>1</th>\n",
       "      <td>0.22</td>\n",
       "      <td>0.80</td>\n",
       "      <td>0.0000</td>\n",
       "      <td>1</td>\n",
       "      <td>6</td>\n",
       "      <td>1</td>\n",
       "      <td>0</td>\n",
       "      <td>1.0</td>\n",
       "      <td>0.0</td>\n",
       "      <td>0.0</td>\n",
       "      <td>0.0</td>\n",
       "      <td>1.0</td>\n",
       "      <td>0.0</td>\n",
       "      <td>1.0</td>\n",
       "      <td>0.0</td>\n",
       "      <td>0.0</td>\n",
       "      <td>0.0</td>\n",
       "      <td>1.0</td>\n",
       "      <td>0.0</td>\n",
       "      <td>40</td>\n",
       "    </tr>\n",
       "    <tr>\n",
       "      <th>2</th>\n",
       "      <td>0.22</td>\n",
       "      <td>0.80</td>\n",
       "      <td>0.0000</td>\n",
       "      <td>2</td>\n",
       "      <td>6</td>\n",
       "      <td>1</td>\n",
       "      <td>0</td>\n",
       "      <td>1.0</td>\n",
       "      <td>0.0</td>\n",
       "      <td>0.0</td>\n",
       "      <td>0.0</td>\n",
       "      <td>1.0</td>\n",
       "      <td>0.0</td>\n",
       "      <td>1.0</td>\n",
       "      <td>0.0</td>\n",
       "      <td>0.0</td>\n",
       "      <td>0.0</td>\n",
       "      <td>1.0</td>\n",
       "      <td>0.0</td>\n",
       "      <td>32</td>\n",
       "    </tr>\n",
       "    <tr>\n",
       "      <th>3</th>\n",
       "      <td>0.24</td>\n",
       "      <td>0.75</td>\n",
       "      <td>0.0000</td>\n",
       "      <td>3</td>\n",
       "      <td>6</td>\n",
       "      <td>1</td>\n",
       "      <td>0</td>\n",
       "      <td>1.0</td>\n",
       "      <td>0.0</td>\n",
       "      <td>0.0</td>\n",
       "      <td>0.0</td>\n",
       "      <td>1.0</td>\n",
       "      <td>0.0</td>\n",
       "      <td>1.0</td>\n",
       "      <td>0.0</td>\n",
       "      <td>0.0</td>\n",
       "      <td>0.0</td>\n",
       "      <td>1.0</td>\n",
       "      <td>0.0</td>\n",
       "      <td>13</td>\n",
       "    </tr>\n",
       "    <tr>\n",
       "      <th>4</th>\n",
       "      <td>0.24</td>\n",
       "      <td>0.75</td>\n",
       "      <td>0.0000</td>\n",
       "      <td>4</td>\n",
       "      <td>6</td>\n",
       "      <td>1</td>\n",
       "      <td>0</td>\n",
       "      <td>1.0</td>\n",
       "      <td>0.0</td>\n",
       "      <td>0.0</td>\n",
       "      <td>0.0</td>\n",
       "      <td>1.0</td>\n",
       "      <td>0.0</td>\n",
       "      <td>1.0</td>\n",
       "      <td>0.0</td>\n",
       "      <td>0.0</td>\n",
       "      <td>0.0</td>\n",
       "      <td>1.0</td>\n",
       "      <td>0.0</td>\n",
       "      <td>1</td>\n",
       "    </tr>\n",
       "    <tr>\n",
       "      <th>5</th>\n",
       "      <td>0.24</td>\n",
       "      <td>0.75</td>\n",
       "      <td>0.0896</td>\n",
       "      <td>5</td>\n",
       "      <td>6</td>\n",
       "      <td>1</td>\n",
       "      <td>0</td>\n",
       "      <td>1.0</td>\n",
       "      <td>0.0</td>\n",
       "      <td>0.0</td>\n",
       "      <td>0.0</td>\n",
       "      <td>1.0</td>\n",
       "      <td>0.0</td>\n",
       "      <td>0.0</td>\n",
       "      <td>1.0</td>\n",
       "      <td>0.0</td>\n",
       "      <td>0.0</td>\n",
       "      <td>1.0</td>\n",
       "      <td>0.0</td>\n",
       "      <td>1</td>\n",
       "    </tr>\n",
       "    <tr>\n",
       "      <th>6</th>\n",
       "      <td>0.22</td>\n",
       "      <td>0.80</td>\n",
       "      <td>0.0000</td>\n",
       "      <td>6</td>\n",
       "      <td>6</td>\n",
       "      <td>1</td>\n",
       "      <td>0</td>\n",
       "      <td>1.0</td>\n",
       "      <td>0.0</td>\n",
       "      <td>0.0</td>\n",
       "      <td>0.0</td>\n",
       "      <td>1.0</td>\n",
       "      <td>0.0</td>\n",
       "      <td>1.0</td>\n",
       "      <td>0.0</td>\n",
       "      <td>0.0</td>\n",
       "      <td>0.0</td>\n",
       "      <td>1.0</td>\n",
       "      <td>0.0</td>\n",
       "      <td>2</td>\n",
       "    </tr>\n",
       "    <tr>\n",
       "      <th>7</th>\n",
       "      <td>0.20</td>\n",
       "      <td>0.86</td>\n",
       "      <td>0.0000</td>\n",
       "      <td>7</td>\n",
       "      <td>6</td>\n",
       "      <td>1</td>\n",
       "      <td>0</td>\n",
       "      <td>1.0</td>\n",
       "      <td>0.0</td>\n",
       "      <td>0.0</td>\n",
       "      <td>0.0</td>\n",
       "      <td>1.0</td>\n",
       "      <td>0.0</td>\n",
       "      <td>1.0</td>\n",
       "      <td>0.0</td>\n",
       "      <td>0.0</td>\n",
       "      <td>0.0</td>\n",
       "      <td>1.0</td>\n",
       "      <td>0.0</td>\n",
       "      <td>3</td>\n",
       "    </tr>\n",
       "    <tr>\n",
       "      <th>8</th>\n",
       "      <td>0.24</td>\n",
       "      <td>0.75</td>\n",
       "      <td>0.0000</td>\n",
       "      <td>8</td>\n",
       "      <td>6</td>\n",
       "      <td>1</td>\n",
       "      <td>0</td>\n",
       "      <td>1.0</td>\n",
       "      <td>0.0</td>\n",
       "      <td>0.0</td>\n",
       "      <td>0.0</td>\n",
       "      <td>1.0</td>\n",
       "      <td>0.0</td>\n",
       "      <td>1.0</td>\n",
       "      <td>0.0</td>\n",
       "      <td>0.0</td>\n",
       "      <td>0.0</td>\n",
       "      <td>1.0</td>\n",
       "      <td>0.0</td>\n",
       "      <td>8</td>\n",
       "    </tr>\n",
       "    <tr>\n",
       "      <th>9</th>\n",
       "      <td>0.32</td>\n",
       "      <td>0.76</td>\n",
       "      <td>0.0000</td>\n",
       "      <td>9</td>\n",
       "      <td>6</td>\n",
       "      <td>1</td>\n",
       "      <td>0</td>\n",
       "      <td>1.0</td>\n",
       "      <td>0.0</td>\n",
       "      <td>0.0</td>\n",
       "      <td>0.0</td>\n",
       "      <td>1.0</td>\n",
       "      <td>0.0</td>\n",
       "      <td>1.0</td>\n",
       "      <td>0.0</td>\n",
       "      <td>0.0</td>\n",
       "      <td>0.0</td>\n",
       "      <td>1.0</td>\n",
       "      <td>0.0</td>\n",
       "      <td>14</td>\n",
       "    </tr>\n",
       "  </tbody>\n",
       "</table>\n",
       "</div>"
      ],
      "text/plain": [
       "   temp  humidity  windspeed  hour  weekday  month  year  season_1  season_2  \\\n",
       "0  0.24      0.81     0.0000     0        6      1     0       1.0       0.0   \n",
       "1  0.22      0.80     0.0000     1        6      1     0       1.0       0.0   \n",
       "2  0.22      0.80     0.0000     2        6      1     0       1.0       0.0   \n",
       "3  0.24      0.75     0.0000     3        6      1     0       1.0       0.0   \n",
       "4  0.24      0.75     0.0000     4        6      1     0       1.0       0.0   \n",
       "5  0.24      0.75     0.0896     5        6      1     0       1.0       0.0   \n",
       "6  0.22      0.80     0.0000     6        6      1     0       1.0       0.0   \n",
       "7  0.20      0.86     0.0000     7        6      1     0       1.0       0.0   \n",
       "8  0.24      0.75     0.0000     8        6      1     0       1.0       0.0   \n",
       "9  0.32      0.76     0.0000     9        6      1     0       1.0       0.0   \n",
       "\n",
       "   season_3  season_4  is_holiday_0  is_holiday_1  weather_condition_1  \\\n",
       "0       0.0       0.0           1.0           0.0                  1.0   \n",
       "1       0.0       0.0           1.0           0.0                  1.0   \n",
       "2       0.0       0.0           1.0           0.0                  1.0   \n",
       "3       0.0       0.0           1.0           0.0                  1.0   \n",
       "4       0.0       0.0           1.0           0.0                  1.0   \n",
       "5       0.0       0.0           1.0           0.0                  0.0   \n",
       "6       0.0       0.0           1.0           0.0                  1.0   \n",
       "7       0.0       0.0           1.0           0.0                  1.0   \n",
       "8       0.0       0.0           1.0           0.0                  1.0   \n",
       "9       0.0       0.0           1.0           0.0                  1.0   \n",
       "\n",
       "   weather_condition_2  weather_condition_3  weather_condition_4  \\\n",
       "0                  0.0                  0.0                  0.0   \n",
       "1                  0.0                  0.0                  0.0   \n",
       "2                  0.0                  0.0                  0.0   \n",
       "3                  0.0                  0.0                  0.0   \n",
       "4                  0.0                  0.0                  0.0   \n",
       "5                  1.0                  0.0                  0.0   \n",
       "6                  0.0                  0.0                  0.0   \n",
       "7                  0.0                  0.0                  0.0   \n",
       "8                  0.0                  0.0                  0.0   \n",
       "9                  0.0                  0.0                  0.0   \n",
       "\n",
       "   is_workingday_0  is_workingday_1  total_count  \n",
       "0              1.0              0.0           16  \n",
       "1              1.0              0.0           40  \n",
       "2              1.0              0.0           32  \n",
       "3              1.0              0.0           13  \n",
       "4              1.0              0.0            1  \n",
       "5              1.0              0.0            1  \n",
       "6              1.0              0.0            2  \n",
       "7              1.0              0.0            3  \n",
       "8              1.0              0.0            8  \n",
       "9              1.0              0.0           14  "
      ]
     },
     "execution_count": 5,
     "metadata": {},
     "output_type": "execute_result"
    }
   ],
   "source": [
    "data.head(n=10)"
   ]
  },
  {
   "cell_type": "code",
   "execution_count": 23,
   "metadata": {},
   "outputs": [
    {
     "name": "stdout",
     "output_type": "stream",
     "text": [
      "Hidden layer size were recommended being btw 2 and 38\n"
     ]
    }
   ],
   "source": [
    "SIZE_INPUT = 19\n",
    "SIZE_OUTPUT = 1\n",
    "\n",
    "SIZE_RULE_2 = int(2/3 * (SIZE_INPUT + SIZE_OUTPUT))\n",
    "\n",
    "MIN_SIZE = SIZE_OUTPUT + 1\n",
    "MAX_SIZE = 2 * SIZE_INPUT\n",
    "\n",
    "print('Hidden layer size were recommended being btw {} and {}'.format(MIN_SIZE, MAX_SIZE))"
   ]
  },
  {
   "cell_type": "markdown",
   "metadata": {},
   "source": [
    "## Split Train and Test data ##"
   ]
  },
  {
   "cell_type": "code",
   "execution_count": 7,
   "metadata": {},
   "outputs": [],
   "source": [
    "X = data.iloc[:,0:-1]\n",
    "y = data.iloc[:,-1]"
   ]
  },
  {
   "cell_type": "code",
   "execution_count": 8,
   "metadata": {},
   "outputs": [
    {
     "data": {
      "text/plain": [
       "(17379, 19)"
      ]
     },
     "execution_count": 8,
     "metadata": {},
     "output_type": "execute_result"
    }
   ],
   "source": [
    "X.shape"
   ]
  },
  {
   "cell_type": "code",
   "execution_count": 9,
   "metadata": {},
   "outputs": [
    {
     "data": {
      "text/plain": [
       "(17379,)"
      ]
     },
     "execution_count": 9,
     "metadata": {},
     "output_type": "execute_result"
    }
   ],
   "source": [
    "y.shape"
   ]
  },
  {
   "cell_type": "code",
   "execution_count": 10,
   "metadata": {},
   "outputs": [],
   "source": [
    "from sklearn.model_selection import train_test_split"
   ]
  },
  {
   "cell_type": "code",
   "execution_count": 22,
   "metadata": {},
   "outputs": [],
   "source": [
    "test_size=0.33\n",
    "X_train, X_test, y_train, y_test = train_test_split(X, y, test_size=0.33, random_state=43)\n",
    "\n",
    "y_train = y_train.values.flatten()\n",
    "y_test = y_test.values.flatten()"
   ]
  },
  {
   "cell_type": "markdown",
   "metadata": {},
   "source": [
    "## Build model ##"
   ]
  },
  {
   "cell_type": "code",
   "execution_count": 12,
   "metadata": {},
   "outputs": [],
   "source": [
    "from utils.nn import create_mlp_nn\n",
    "from sklearn import metrics"
   ]
  },
  {
   "cell_type": "code",
   "execution_count": 17,
   "metadata": {},
   "outputs": [
    {
     "data": {
      "text/plain": [
       "MLPRegressor(activation='relu', alpha=0.0001, batch_size='auto', beta_1=0.9,\n",
       "       beta_2=0.999, early_stopping=True, epsilon=1e-08,\n",
       "       hidden_layer_sizes=(160, 80, 40), learning_rate='constant',\n",
       "       learning_rate_init=0.001, max_iter=1000, momentum=0.9,\n",
       "       nesterovs_momentum=True, power_t=0.5, random_state=13, shuffle=True,\n",
       "       solver='adam', tol=1e-05, validation_fraction=0.1, verbose=False,\n",
       "       warm_start=False)"
      ]
     },
     "execution_count": 17,
     "metadata": {},
     "output_type": "execute_result"
    }
   ],
   "source": [
    "dnn = create_mlp_nn(hidden_layer_sizes=(160, 80, 40), verbose=False)\n",
    "dnn.fit(X_train, y_train)"
   ]
  },
  {
   "cell_type": "code",
   "execution_count": 18,
   "metadata": {},
   "outputs": [
    {
     "name": "stdout",
     "output_type": "stream",
     "text": [
      "R-squared::0.9106457314393288\n",
      "Pred R-squared::0.9002130472935612\n",
      "MSE::3336.8798909376187\n"
     ]
    }
   ],
   "source": [
    "print(\"R-squared::{}\".format(dnn.score(X_train, y_train)))\n",
    "print(\"Pred R-squared::{}\".format(dnn.score(X_test, y_test)))\n",
    "print(\"MSE::{}\".format(metrics.mean_squared_error(y_test, dnn.predict(X_test))))"
   ]
  },
  {
   "cell_type": "markdown",
   "metadata": {},
   "source": [
    "## Test size of hidden layers ##"
   ]
  },
  {
   "cell_type": "markdown",
   "metadata": {},
   "source": [
    "I use `predict-r2` and `MSE` as the evaluating measure."
   ]
  },
  {
   "cell_type": "markdown",
   "metadata": {},
   "source": [
    "### Experiment 1: 2 hidden layers, later one has 2/3 size of input + output ###"
   ]
  },
  {
   "cell_type": "code",
   "execution_count": 24,
   "metadata": {},
   "outputs": [
    {
     "name": "stdout",
     "output_type": "stream",
     "text": [
      "Done 2/38. Result: R2=0.5901009090145379, MSE=13707.042823993768\n",
      "Done 3/38. Result: R2=0.5912882249884386, MSE=13667.338927942812\n",
      "Done 4/38. Result: R2=0.6808065542541837, MSE=10673.842236286422\n",
      "Done 5/38. Result: R2=0.771016468959812, MSE=7657.218898464167\n",
      "Done 6/38. Result: R2=0.6675587028726213, MSE=11116.85094307914\n",
      "Done 7/38. Result: R2=0.8649887396751468, MSE=4514.782217606256\n",
      "Done 8/38. Result: R2=0.7780391099175178, MSE=7422.381489790288\n",
      "Done 9/38. Result: R2=0.7096397200185008, MSE=9709.659961735282\n",
      "Done 10/38. Result: R2=0.6718424110075263, MSE=10973.603563072833\n",
      "Done 11/38. Result: R2=0.6905200937472437, MSE=10349.02106753528\n",
      "Done 12/38. Result: R2=0.7480536141777407, MSE=8425.097727134618\n",
      "Done 13/38. Result: R2=0.6262425938966737, MSE=12498.46336308373\n",
      "Done 14/38. Result: R2=0.595873176562977, MSE=13514.017954658766\n",
      "Done 15/38. Result: R2=0.6401821230987452, MSE=12032.324920913134\n",
      "Done 16/38. Result: R2=0.80805949646165, MSE=6418.498502482416\n",
      "Done 17/38. Result: R2=0.6842707670691268, MSE=10557.998814209797\n",
      "Done 18/38. Result: R2=0.6649173554096921, MSE=11205.177713212674\n",
      "Done 19/38. Result: R2=0.7713859736386685, MSE=7644.8626464788895\n",
      "Done 20/38. Result: R2=0.8000063123560509, MSE=6687.797317318935\n",
      "Done 21/38. Result: R2=0.6587853334533924, MSE=11410.2327850612\n",
      "Done 22/38. Result: R2=0.6612376861753306, MSE=11328.2260070068\n",
      "Done 23/38. Result: R2=0.7685625043340779, MSE=7739.279578649217\n",
      "Done 24/38. Result: R2=0.7704469050706142, MSE=7676.265138848518\n",
      "Done 25/38. Result: R2=0.7458216803753052, MSE=8499.733687260197\n",
      "Done 26/38. Result: R2=0.8241274655516159, MSE=5881.184941036671\n",
      "Done 27/38. Result: R2=0.759707445576569, MSE=8035.393115535451\n",
      "Done 28/38. Result: R2=0.8031147406455215, MSE=6583.851344721992\n",
      "Done 29/38. Result: R2=0.6871748193724987, MSE=10460.887183174616\n",
      "Done 30/38. Result: R2=0.6886222239167923, MSE=10412.485914402396\n",
      "Done 31/38. Result: R2=0.6530961527504014, MSE=11600.479226793615\n",
      "Done 32/38. Result: R2=0.8413227714531769, MSE=5306.173189247425\n",
      "Done 33/38. Result: R2=0.6607954500847575, MSE=11343.014400455611\n",
      "Done 34/38. Result: R2=0.8231638463369756, MSE=5913.4084080595985\n",
      "Done 35/38. Result: R2=0.6711837648535321, MSE=10995.62871813466\n",
      "Done 36/38. Result: R2=0.8305183295477677, MSE=5667.4741805005415\n",
      "Done 37/38. Result: R2=0.8278509169131867, MSE=5756.67257106921\n",
      "Done 38/38. Result: R2=0.7845585202587639, MSE=7204.372134073467\n"
     ]
    }
   ],
   "source": [
    "pred_history = []\n",
    "for size1 in range(MIN_SIZE, MAX_SIZE + 1):\n",
    "    # Use 2 layers\n",
    "    hls = (size1, SIZE_RULE_2)\n",
    "    \n",
    "    dnn = create_mlp_nn(hidden_layer_sizes=hls, verbose=False)\n",
    "    dnn.fit(X_train, y_train)\n",
    "    \n",
    "    r2 = dnn.score(X_test, y_test)\n",
    "    mse = metrics.mean_squared_error(y_test, dnn.predict(X_test))\n",
    "    \n",
    "    pred_history.append({'size': hls, \n",
    "                          'score': r2,\n",
    "                          'mse': mse })\n",
    "    \n",
    "    print('Done {}/{}. Result: R2={}, MSE={}'.format(size1, MAX_SIZE, r2, mse))"
   ]
  },
  {
   "cell_type": "code",
   "execution_count": 25,
   "metadata": {},
   "outputs": [
    {
     "name": "stderr",
     "output_type": "stream",
     "text": [
      "/Users/magicii/anaconda3/lib/python3.6/site-packages/matplotlib/__init__.py:886: MatplotlibDeprecationWarning: \n",
      "examples.directory is deprecated; in the future, examples will be found relative to the 'datapath' directory.\n",
      "  \"found relative to the 'datapath' directory.\".format(key))\n"
     ]
    }
   ],
   "source": [
    "from matplotlib import pyplot as plt\n",
    "import seaborn as sn"
   ]
  },
  {
   "cell_type": "code",
   "execution_count": 26,
   "metadata": {},
   "outputs": [
    {
     "data": {
      "text/plain": [
       "[{'size': (2, 13), 'score': 0.5901009090145379, 'mse': 13707.042823993768},\n",
       " {'size': (3, 13), 'score': 0.5912882249884386, 'mse': 13667.338927942812},\n",
       " {'size': (4, 13), 'score': 0.6808065542541837, 'mse': 10673.842236286422},\n",
       " {'size': (5, 13), 'score': 0.771016468959812, 'mse': 7657.218898464167},\n",
       " {'size': (6, 13), 'score': 0.6675587028726213, 'mse': 11116.85094307914},\n",
       " {'size': (7, 13), 'score': 0.8649887396751468, 'mse': 4514.782217606256},\n",
       " {'size': (8, 13), 'score': 0.7780391099175178, 'mse': 7422.381489790288},\n",
       " {'size': (9, 13), 'score': 0.7096397200185008, 'mse': 9709.659961735282},\n",
       " {'size': (10, 13), 'score': 0.6718424110075263, 'mse': 10973.603563072833},\n",
       " {'size': (11, 13), 'score': 0.6905200937472437, 'mse': 10349.02106753528},\n",
       " {'size': (12, 13), 'score': 0.7480536141777407, 'mse': 8425.097727134618},\n",
       " {'size': (13, 13), 'score': 0.6262425938966737, 'mse': 12498.46336308373},\n",
       " {'size': (14, 13), 'score': 0.595873176562977, 'mse': 13514.017954658766},\n",
       " {'size': (15, 13), 'score': 0.6401821230987452, 'mse': 12032.324920913134},\n",
       " {'size': (16, 13), 'score': 0.80805949646165, 'mse': 6418.498502482416},\n",
       " {'size': (17, 13), 'score': 0.6842707670691268, 'mse': 10557.998814209797},\n",
       " {'size': (18, 13), 'score': 0.6649173554096921, 'mse': 11205.177713212674},\n",
       " {'size': (19, 13), 'score': 0.7713859736386685, 'mse': 7644.8626464788895},\n",
       " {'size': (20, 13), 'score': 0.8000063123560509, 'mse': 6687.797317318935},\n",
       " {'size': (21, 13), 'score': 0.6587853334533924, 'mse': 11410.2327850612},\n",
       " {'size': (22, 13), 'score': 0.6612376861753306, 'mse': 11328.2260070068},\n",
       " {'size': (23, 13), 'score': 0.7685625043340779, 'mse': 7739.279578649217},\n",
       " {'size': (24, 13), 'score': 0.7704469050706142, 'mse': 7676.265138848518},\n",
       " {'size': (25, 13), 'score': 0.7458216803753052, 'mse': 8499.733687260197},\n",
       " {'size': (26, 13), 'score': 0.8241274655516159, 'mse': 5881.184941036671},\n",
       " {'size': (27, 13), 'score': 0.759707445576569, 'mse': 8035.393115535451},\n",
       " {'size': (28, 13), 'score': 0.8031147406455215, 'mse': 6583.851344721992},\n",
       " {'size': (29, 13), 'score': 0.6871748193724987, 'mse': 10460.887183174616},\n",
       " {'size': (30, 13), 'score': 0.6886222239167923, 'mse': 10412.485914402396},\n",
       " {'size': (31, 13), 'score': 0.6530961527504014, 'mse': 11600.479226793615},\n",
       " {'size': (32, 13), 'score': 0.8413227714531769, 'mse': 5306.173189247425},\n",
       " {'size': (33, 13), 'score': 0.6607954500847575, 'mse': 11343.014400455611},\n",
       " {'size': (34, 13), 'score': 0.8231638463369756, 'mse': 5913.4084080595985},\n",
       " {'size': (35, 13), 'score': 0.6711837648535321, 'mse': 10995.62871813466},\n",
       " {'size': (36, 13), 'score': 0.8305183295477677, 'mse': 5667.4741805005415},\n",
       " {'size': (37, 13), 'score': 0.8278509169131867, 'mse': 5756.67257106921},\n",
       " {'size': (38, 13), 'score': 0.7845585202587639, 'mse': 7204.372134073467}]"
      ]
     },
     "execution_count": 26,
     "metadata": {},
     "output_type": "execute_result"
    }
   ],
   "source": [
    "pred_history"
   ]
  },
  {
   "cell_type": "code",
   "execution_count": 46,
   "metadata": {},
   "outputs": [],
   "source": [
    "hist_df = pd.DataFrame(data={'x': [ins['size'][0] for ins in pred_history],\n",
    "                             'r2': [ins['score'] for ins in pred_history],\n",
    "                             'mse': [ins['mse'] for ins in pred_history]})"
   ]
  },
  {
   "cell_type": "code",
   "execution_count": 48,
   "metadata": {},
   "outputs": [
    {
     "name": "stderr",
     "output_type": "stream",
     "text": [
      "/Users/magicii/anaconda3/lib/python3.6/site-packages/ipykernel_launcher.py:2: RuntimeWarning: Second argument 'r2' is ambiguous: could be a color spec but is in data; using as data.  Either rename the entry in data or use three arguments to plot.\n",
      "  \n"
     ]
    },
    {
     "data": {
      "image/png": "[encoded data removed]",
      "text/plain": [
       "<Figure size 432x288 with 2 Axes>"
      ]
     },
     "metadata": {},
     "output_type": "display_data"
    }
   ],
   "source": [
    "ax1 = plt.subplot()\n",
    "ax1.plot('x', 'r2', data=hist_df, color='red', label='R2 (pred)')\n",
    "ax1.set_xlabel('Size of prior (first) hidden layer')\n",
    "ax1.set_ylabel('R2 (pred)')\n",
    "\n",
    "ax2 = ax1.twinx()\n",
    "ax2.plot('x', 'mse', data=hist_df, color='lightgray', linestyle='dashed', linewidth=1, label='MSE')\n",
    "ax2.set_ylabel('MSE')\n",
    "\n",
    "plt.show()"
   ]
  },
  {
   "cell_type": "markdown",
   "metadata": {},
   "source": [
    "### Experiment 2: 2 hidden layers, prior one has 2/3 size of input + output ###"
   ]
  },
  {
   "cell_type": "code",
   "execution_count": 41,
   "metadata": {},
   "outputs": [
    {
     "name": "stdout",
     "output_type": "stream",
     "text": [
      "Done 2/38. Result: R2=0.597726767099166, MSE=13452.03380925213\n"
     ]
    },
    {
     "name": "stderr",
     "output_type": "stream",
     "text": [
      "/Users/magicii/anaconda3/lib/python3.6/site-packages/sklearn/neural_network/multilayer_perceptron.py:564: ConvergenceWarning: Stochastic Optimizer: Maximum iterations (1000) reached and the optimization hasn't converged yet.\n",
      "  % self.max_iter, ConvergenceWarning)\n"
     ]
    },
    {
     "name": "stdout",
     "output_type": "stream",
     "text": [
      "Done 3/38. Result: R2=-0.5545705833092343, MSE=51984.90561935985\n",
      "Done 4/38. Result: R2=0.6757013826319742, MSE=10844.559389821032\n",
      "Done 5/38. Result: R2=0.6589927330252379, MSE=11403.29733466503\n",
      "Done 6/38. Result: R2=0.5370971660120396, MSE=15479.490216888744\n",
      "Done 7/38. Result: R2=0.6581344786342473, MSE=11431.997397558329\n",
      "Done 8/38. Result: R2=0.6932853249207368, MSE=10256.551620915654\n",
      "Done 9/38. Result: R2=0.6812038597524555, MSE=10660.556323731877\n",
      "Done 10/38. Result: R2=0.8491573347440565, MSE=5044.185063640227\n",
      "Done 11/38. Result: R2=0.6708353558417472, MSE=11007.279530126752\n",
      "Done 12/38. Result: R2=0.579291931251354, MSE=14068.495494521432\n",
      "Done 13/38. Result: R2=0.6262425938966737, MSE=12498.46336308373\n",
      "Done 14/38. Result: R2=0.7537920976045108, MSE=8233.202600247634\n",
      "Done 15/38. Result: R2=0.7699708585911119, MSE=7692.184153123613\n",
      "Done 16/38. Result: R2=0.6711227728076832, MSE=10997.668294710364\n",
      "Done 17/38. Result: R2=0.7985993558535814, MSE=6734.846001873173\n",
      "Done 18/38. Result: R2=0.612171104662206, MSE=12969.0145542818\n",
      "Done 19/38. Result: R2=0.8633555218007711, MSE=4569.397091943151\n",
      "Done 20/38. Result: R2=0.7877993747655155, MSE=7095.997823206917\n",
      "Done 21/38. Result: R2=0.8333433982332701, MSE=5573.003764965319\n",
      "Done 22/38. Result: R2=0.6907562293227216, MSE=10341.124683970329\n",
      "Done 23/38. Result: R2=0.7982053120908622, MSE=6748.022841853809\n",
      "Done 24/38. Result: R2=0.8211637081559999, MSE=5980.293112864933\n",
      "Done 25/38. Result: R2=0.8387552591110415, MSE=5392.03090983952\n",
      "Done 26/38. Result: R2=0.7000955470883037, MSE=10028.817505508545\n",
      "Done 27/38. Result: R2=0.8330673266729135, MSE=5582.235609542475\n",
      "Done 28/38. Result: R2=0.8363272717211107, MSE=5473.222910167912\n",
      "Done 29/38. Result: R2=0.8390419792092225, MSE=5382.44297771013\n",
      "Done 30/38. Result: R2=0.861187779457332, MSE=4641.886486982963\n",
      "Done 31/38. Result: R2=0.6506933990121231, MSE=11680.827412750587\n",
      "Done 32/38. Result: R2=0.8345812225194232, MSE=5531.610868830595\n",
      "Done 33/38. Result: R2=0.8067536990116285, MSE=6462.164424072712\n",
      "Done 34/38. Result: R2=0.7411969296222003, MSE=8654.385546747624\n",
      "Done 35/38. Result: R2=0.8474421203831305, MSE=5101.541903932357\n",
      "Done 36/38. Result: R2=0.78866725053345, MSE=7066.976021064383\n",
      "Done 37/38. Result: R2=0.7648752602641424, MSE=7862.581175263192\n",
      "Done 38/38. Result: R2=0.8024854699326237, MSE=6604.894183799381\n"
     ]
    }
   ],
   "source": [
    "pred_history_2 = []\n",
    "for size2 in range(MIN_SIZE, MAX_SIZE + 1):\n",
    "    # Use 2 layers\n",
    "    hls = (SIZE_RULE_2, size2)\n",
    "    \n",
    "    dnn = create_mlp_nn(hidden_layer_sizes=hls, verbose=False)\n",
    "    dnn.fit(X_train, y_train)\n",
    "    \n",
    "    r2 = dnn.score(X_test, y_test)\n",
    "    mse = metrics.mean_squared_error(y_test, dnn.predict(X_test))\n",
    "    \n",
    "    pred_history_2.append({'size': hls, \n",
    "                           'score': r2,\n",
    "                           'mse': mse })\n",
    "    \n",
    "    print('Done {}/{}. Result: R2={}, MSE={}'.format(size2, MAX_SIZE, r2, mse))"
   ]
  },
  {
   "cell_type": "code",
   "execution_count": 49,
   "metadata": {},
   "outputs": [],
   "source": [
    "hist_df = pd.DataFrame(data={'x': [ins['size'][1] for ins in pred_history_2],\n",
    "                             'r2': [ins['score'] for ins in pred_history_2],\n",
    "                             'mse': [ins['mse'] for ins in pred_history_2]})"
   ]
  },
  {
   "cell_type": "code",
   "execution_count": 50,
   "metadata": {},
   "outputs": [
    {
     "name": "stderr",
     "output_type": "stream",
     "text": [
      "/Users/magicii/anaconda3/lib/python3.6/site-packages/ipykernel_launcher.py:2: RuntimeWarning: Second argument 'r2' is ambiguous: could be a color spec but is in data; using as data.  Either rename the entry in data or use three arguments to plot.\n",
      "  \n"
     ]
    },
    {
     "data": {
      "image/png": "[encoded data removed]",
      "text/plain": [
       "<Figure size 432x288 with 2 Axes>"
      ]
     },
     "metadata": {},
     "output_type": "display_data"
    }
   ],
   "source": [
    "ax1 = plt.subplot()\n",
    "ax1.plot('x', 'r2', data=hist_df, color='red', label='R2 (pred)')\n",
    "ax1.set_xlabel('Size of later (second) hidden layer')\n",
    "ax1.set_ylabel('R2 (pred)')\n",
    "\n",
    "ax2 = ax1.twinx()\n",
    "ax2.plot('x', 'mse', data=hist_df, color='lightgray', linestyle='dashed', linewidth=1, label='MSE')\n",
    "ax2.set_ylabel('MSE')\n",
    "\n",
    "plt.show()"
   ]
  },
  {
   "cell_type": "code",
   "execution_count": 53,
   "metadata": {},
   "outputs": [
    {
     "name": "stderr",
     "output_type": "stream",
     "text": [
      "/Users/magicii/anaconda3/lib/python3.6/site-packages/ipykernel_launcher.py:2: RuntimeWarning: Second argument 'r2' is ambiguous: could be a color spec but is in data; using as data.  Either rename the entry in data or use three arguments to plot.\n",
      "  \n"
     ]
    },
    {
     "data": {
      "image/png": "[encoded data removed]",
      "text/plain": [
       "<Figure size 432x288 with 2 Axes>"
      ]
     },
     "metadata": {},
     "output_type": "display_data"
    }
   ],
   "source": [
    "ax1 = plt.subplot()\n",
    "ax1.plot('x', 'r2', data=hist_df, color='red', label='R2 (pred)')\n",
    "ax1.set_xlabel('Size of later (second) hidden layer')\n",
    "ax1.set_ylabel('R2 (pred)')\n",
    "ax1.set_ylim((0.585, 0.875))\n",
    "\n",
    "ax2 = ax1.twinx()\n",
    "ax2.plot('x', 'mse', data=hist_df, color='lightgray', linestyle='dashed', linewidth=1, label='MSE')\n",
    "ax2.set_ylabel('MSE')\n",
    "\n",
    "plt.show()"
   ]
  },
  {
   "cell_type": "code",
   "execution_count": null,
   "metadata": {},
   "outputs": [],
   "source": []
  }
 ],
 "metadata": {
  "kernelspec": {
   "display_name": "Python 3",
   "language": "python",
   "name": "python3"
  },
  "language_info": {
   "codemirror_mode": {
    "name": "ipython",
    "version": 3
   },
   "file_extension": ".py",
   "mimetype": "text/x-python",
   "name": "python",
   "nbconvert_exporter": "python",
   "pygments_lexer": "ipython3",
   "version": "3.6.8"
  }
 },
 "nbformat": 4,
 "nbformat_minor": 2
}
