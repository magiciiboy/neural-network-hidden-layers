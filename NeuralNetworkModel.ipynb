{
 "cells": [
  {
   "cell_type": "markdown",
   "metadata": {},
   "source": [
    "# Experiment of Determining the Number of Hidden Layers #"
   ]
  },
  {
   "cell_type": "markdown",
   "metadata": {},
   "source": [
    "## Motivation ##"
   ]
  },
  {
   "cell_type": "markdown",
   "metadata": {},
   "source": [
    "https://www.heatonresearch.com/2017/06/01/hidden-layers.html\n",
    "\n",
    "Rule-of-thumb methods:\n",
    "\n",
    "- The number of hidden neurons should be between the size of the input layer and the size of the output layer.\n",
    "- The number of hidden neurons should be 2/3 the size of the input layer, plus the size of the output layer.\n",
    "- The number of hidden neurons should be less than twice the size of the input layer."
   ]
  },
  {
   "cell_type": "markdown",
   "metadata": {},
   "source": [
    "## Dataset ##"
   ]
  },
  {
   "cell_type": "code",
   "execution_count": 2,
   "metadata": {},
   "outputs": [],
   "source": [
    "import pandas as pd\n",
    "import numpy as np"
   ]
  },
  {
   "cell_type": "code",
   "execution_count": 3,
   "metadata": {},
   "outputs": [],
   "source": [
    "data = pd.read_csv('./data/hour_preprocessed.csv')"
   ]
  },
  {
   "cell_type": "code",
   "execution_count": 4,
   "metadata": {},
   "outputs": [
    {
     "data": {
      "text/plain": [
       "temp                   float64\n",
       "humidity               float64\n",
       "windspeed              float64\n",
       "hour                     int64\n",
       "weekday                  int64\n",
       "month                    int64\n",
       "year                     int64\n",
       "season_1               float64\n",
       "season_2               float64\n",
       "season_3               float64\n",
       "season_4               float64\n",
       "is_holiday_0           float64\n",
       "is_holiday_1           float64\n",
       "weather_condition_1    float64\n",
       "weather_condition_2    float64\n",
       "weather_condition_3    float64\n",
       "weather_condition_4    float64\n",
       "is_workingday_0        float64\n",
       "is_workingday_1        float64\n",
       "total_count              int64\n",
       "dtype: object"
      ]
     },
     "execution_count": 4,
     "metadata": {},
     "output_type": "execute_result"
    }
   ],
   "source": [
    "data.dtypes"
   ]
  },
  {
   "cell_type": "code",
   "execution_count": 5,
   "metadata": {},
   "outputs": [
    {
     "data": {
      "text/html": [
       "<div>\n",
       "<style scoped>\n",
       "    .dataframe tbody tr th:only-of-type {\n",
       "        vertical-align: middle;\n",
       "    }\n",
       "\n",
       "    .dataframe tbody tr th {\n",
       "        vertical-align: top;\n",
       "    }\n",
       "\n",
       "    .dataframe thead th {\n",
       "        text-align: right;\n",
       "    }\n",
       "</style>\n",
       "<table border=\"1\" class=\"dataframe\">\n",
       "  <thead>\n",
       "    <tr style=\"text-align: right;\">\n",
       "      <th></th>\n",
       "      <th>temp</th>\n",
       "      <th>humidity</th>\n",
       "      <th>windspeed</th>\n",
       "      <th>hour</th>\n",
       "      <th>weekday</th>\n",
       "      <th>month</th>\n",
       "      <th>year</th>\n",
       "      <th>season_1</th>\n",
       "      <th>season_2</th>\n",
       "      <th>season_3</th>\n",
       "      <th>season_4</th>\n",
       "      <th>is_holiday_0</th>\n",
       "      <th>is_holiday_1</th>\n",
       "      <th>weather_condition_1</th>\n",
       "      <th>weather_condition_2</th>\n",
       "      <th>weather_condition_3</th>\n",
       "      <th>weather_condition_4</th>\n",
       "      <th>is_workingday_0</th>\n",
       "      <th>is_workingday_1</th>\n",
       "      <th>total_count</th>\n",
       "    </tr>\n",
       "  </thead>\n",
       "  <tbody>\n",
       "    <tr>\n",
       "      <th>0</th>\n",
       "      <td>0.24</td>\n",
       "      <td>0.81</td>\n",
       "      <td>0.0000</td>\n",
       "      <td>0</td>\n",
       "      <td>6</td>\n",
       "      <td>1</td>\n",
       "      <td>0</td>\n",
       "      <td>1.0</td>\n",
       "      <td>0.0</td>\n",
       "      <td>0.0</td>\n",
       "      <td>0.0</td>\n",
       "      <td>1.0</td>\n",
       "      <td>0.0</td>\n",
       "      <td>1.0</td>\n",
       "      <td>0.0</td>\n",
       "      <td>0.0</td>\n",
       "      <td>0.0</td>\n",
       "      <td>1.0</td>\n",
       "      <td>0.0</td>\n",
       "      <td>16</td>\n",
       "    </tr>\n",
       "    <tr>\n",
       "      <th>1</th>\n",
       "      <td>0.22</td>\n",
       "      <td>0.80</td>\n",
       "      <td>0.0000</td>\n",
       "      <td>1</td>\n",
       "      <td>6</td>\n",
       "      <td>1</td>\n",
       "      <td>0</td>\n",
       "      <td>1.0</td>\n",
       "      <td>0.0</td>\n",
       "      <td>0.0</td>\n",
       "      <td>0.0</td>\n",
       "      <td>1.0</td>\n",
       "      <td>0.0</td>\n",
       "      <td>1.0</td>\n",
       "      <td>0.0</td>\n",
       "      <td>0.0</td>\n",
       "      <td>0.0</td>\n",
       "      <td>1.0</td>\n",
       "      <td>0.0</td>\n",
       "      <td>40</td>\n",
       "    </tr>\n",
       "    <tr>\n",
       "      <th>2</th>\n",
       "      <td>0.22</td>\n",
       "      <td>0.80</td>\n",
       "      <td>0.0000</td>\n",
       "      <td>2</td>\n",
       "      <td>6</td>\n",
       "      <td>1</td>\n",
       "      <td>0</td>\n",
       "      <td>1.0</td>\n",
       "      <td>0.0</td>\n",
       "      <td>0.0</td>\n",
       "      <td>0.0</td>\n",
       "      <td>1.0</td>\n",
       "      <td>0.0</td>\n",
       "      <td>1.0</td>\n",
       "      <td>0.0</td>\n",
       "      <td>0.0</td>\n",
       "      <td>0.0</td>\n",
       "      <td>1.0</td>\n",
       "      <td>0.0</td>\n",
       "      <td>32</td>\n",
       "    </tr>\n",
       "    <tr>\n",
       "      <th>3</th>\n",
       "      <td>0.24</td>\n",
       "      <td>0.75</td>\n",
       "      <td>0.0000</td>\n",
       "      <td>3</td>\n",
       "      <td>6</td>\n",
       "      <td>1</td>\n",
       "      <td>0</td>\n",
       "      <td>1.0</td>\n",
       "      <td>0.0</td>\n",
       "      <td>0.0</td>\n",
       "      <td>0.0</td>\n",
       "      <td>1.0</td>\n",
       "      <td>0.0</td>\n",
       "      <td>1.0</td>\n",
       "      <td>0.0</td>\n",
       "      <td>0.0</td>\n",
       "      <td>0.0</td>\n",
       "      <td>1.0</td>\n",
       "      <td>0.0</td>\n",
       "      <td>13</td>\n",
       "    </tr>\n",
       "    <tr>\n",
       "      <th>4</th>\n",
       "      <td>0.24</td>\n",
       "      <td>0.75</td>\n",
       "      <td>0.0000</td>\n",
       "      <td>4</td>\n",
       "      <td>6</td>\n",
       "      <td>1</td>\n",
       "      <td>0</td>\n",
       "      <td>1.0</td>\n",
       "      <td>0.0</td>\n",
       "      <td>0.0</td>\n",
       "      <td>0.0</td>\n",
       "      <td>1.0</td>\n",
       "      <td>0.0</td>\n",
       "      <td>1.0</td>\n",
       "      <td>0.0</td>\n",
       "      <td>0.0</td>\n",
       "      <td>0.0</td>\n",
       "      <td>1.0</td>\n",
       "      <td>0.0</td>\n",
       "      <td>1</td>\n",
       "    </tr>\n",
       "    <tr>\n",
       "      <th>5</th>\n",
       "      <td>0.24</td>\n",
       "      <td>0.75</td>\n",
       "      <td>0.0896</td>\n",
       "      <td>5</td>\n",
       "      <td>6</td>\n",
       "      <td>1</td>\n",
       "      <td>0</td>\n",
       "      <td>1.0</td>\n",
       "      <td>0.0</td>\n",
       "      <td>0.0</td>\n",
       "      <td>0.0</td>\n",
       "      <td>1.0</td>\n",
       "      <td>0.0</td>\n",
       "      <td>0.0</td>\n",
       "      <td>1.0</td>\n",
       "      <td>0.0</td>\n",
       "      <td>0.0</td>\n",
       "      <td>1.0</td>\n",
       "      <td>0.0</td>\n",
       "      <td>1</td>\n",
       "    </tr>\n",
       "    <tr>\n",
       "      <th>6</th>\n",
       "      <td>0.22</td>\n",
       "      <td>0.80</td>\n",
       "      <td>0.0000</td>\n",
       "      <td>6</td>\n",
       "      <td>6</td>\n",
       "      <td>1</td>\n",
       "      <td>0</td>\n",
       "      <td>1.0</td>\n",
       "      <td>0.0</td>\n",
       "      <td>0.0</td>\n",
       "      <td>0.0</td>\n",
       "      <td>1.0</td>\n",
       "      <td>0.0</td>\n",
       "      <td>1.0</td>\n",
       "      <td>0.0</td>\n",
       "      <td>0.0</td>\n",
       "      <td>0.0</td>\n",
       "      <td>1.0</td>\n",
       "      <td>0.0</td>\n",
       "      <td>2</td>\n",
       "    </tr>\n",
       "    <tr>\n",
       "      <th>7</th>\n",
       "      <td>0.20</td>\n",
       "      <td>0.86</td>\n",
       "      <td>0.0000</td>\n",
       "      <td>7</td>\n",
       "      <td>6</td>\n",
       "      <td>1</td>\n",
       "      <td>0</td>\n",
       "      <td>1.0</td>\n",
       "      <td>0.0</td>\n",
       "      <td>0.0</td>\n",
       "      <td>0.0</td>\n",
       "      <td>1.0</td>\n",
       "      <td>0.0</td>\n",
       "      <td>1.0</td>\n",
       "      <td>0.0</td>\n",
       "      <td>0.0</td>\n",
       "      <td>0.0</td>\n",
       "      <td>1.0</td>\n",
       "      <td>0.0</td>\n",
       "      <td>3</td>\n",
       "    </tr>\n",
       "    <tr>\n",
       "      <th>8</th>\n",
       "      <td>0.24</td>\n",
       "      <td>0.75</td>\n",
       "      <td>0.0000</td>\n",
       "      <td>8</td>\n",
       "      <td>6</td>\n",
       "      <td>1</td>\n",
       "      <td>0</td>\n",
       "      <td>1.0</td>\n",
       "      <td>0.0</td>\n",
       "      <td>0.0</td>\n",
       "      <td>0.0</td>\n",
       "      <td>1.0</td>\n",
       "      <td>0.0</td>\n",
       "      <td>1.0</td>\n",
       "      <td>0.0</td>\n",
       "      <td>0.0</td>\n",
       "      <td>0.0</td>\n",
       "      <td>1.0</td>\n",
       "      <td>0.0</td>\n",
       "      <td>8</td>\n",
       "    </tr>\n",
       "    <tr>\n",
       "      <th>9</th>\n",
       "      <td>0.32</td>\n",
       "      <td>0.76</td>\n",
       "      <td>0.0000</td>\n",
       "      <td>9</td>\n",
       "      <td>6</td>\n",
       "      <td>1</td>\n",
       "      <td>0</td>\n",
       "      <td>1.0</td>\n",
       "      <td>0.0</td>\n",
       "      <td>0.0</td>\n",
       "      <td>0.0</td>\n",
       "      <td>1.0</td>\n",
       "      <td>0.0</td>\n",
       "      <td>1.0</td>\n",
       "      <td>0.0</td>\n",
       "      <td>0.0</td>\n",
       "      <td>0.0</td>\n",
       "      <td>1.0</td>\n",
       "      <td>0.0</td>\n",
       "      <td>14</td>\n",
       "    </tr>\n",
       "  </tbody>\n",
       "</table>\n",
       "</div>"
      ],
      "text/plain": [
       "   temp  humidity  windspeed  hour  weekday  month  year  season_1  season_2  \\\n",
       "0  0.24      0.81     0.0000     0        6      1     0       1.0       0.0   \n",
       "1  0.22      0.80     0.0000     1        6      1     0       1.0       0.0   \n",
       "2  0.22      0.80     0.0000     2        6      1     0       1.0       0.0   \n",
       "3  0.24      0.75     0.0000     3        6      1     0       1.0       0.0   \n",
       "4  0.24      0.75     0.0000     4        6      1     0       1.0       0.0   \n",
       "5  0.24      0.75     0.0896     5        6      1     0       1.0       0.0   \n",
       "6  0.22      0.80     0.0000     6        6      1     0       1.0       0.0   \n",
       "7  0.20      0.86     0.0000     7        6      1     0       1.0       0.0   \n",
       "8  0.24      0.75     0.0000     8        6      1     0       1.0       0.0   \n",
       "9  0.32      0.76     0.0000     9        6      1     0       1.0       0.0   \n",
       "\n",
       "   season_3  season_4  is_holiday_0  is_holiday_1  weather_condition_1  \\\n",
       "0       0.0       0.0           1.0           0.0                  1.0   \n",
       "1       0.0       0.0           1.0           0.0                  1.0   \n",
       "2       0.0       0.0           1.0           0.0                  1.0   \n",
       "3       0.0       0.0           1.0           0.0                  1.0   \n",
       "4       0.0       0.0           1.0           0.0                  1.0   \n",
       "5       0.0       0.0           1.0           0.0                  0.0   \n",
       "6       0.0       0.0           1.0           0.0                  1.0   \n",
       "7       0.0       0.0           1.0           0.0                  1.0   \n",
       "8       0.0       0.0           1.0           0.0                  1.0   \n",
       "9       0.0       0.0           1.0           0.0                  1.0   \n",
       "\n",
       "   weather_condition_2  weather_condition_3  weather_condition_4  \\\n",
       "0                  0.0                  0.0                  0.0   \n",
       "1                  0.0                  0.0                  0.0   \n",
       "2                  0.0                  0.0                  0.0   \n",
       "3                  0.0                  0.0                  0.0   \n",
       "4                  0.0                  0.0                  0.0   \n",
       "5                  1.0                  0.0                  0.0   \n",
       "6                  0.0                  0.0                  0.0   \n",
       "7                  0.0                  0.0                  0.0   \n",
       "8                  0.0                  0.0                  0.0   \n",
       "9                  0.0                  0.0                  0.0   \n",
       "\n",
       "   is_workingday_0  is_workingday_1  total_count  \n",
       "0              1.0              0.0           16  \n",
       "1              1.0              0.0           40  \n",
       "2              1.0              0.0           32  \n",
       "3              1.0              0.0           13  \n",
       "4              1.0              0.0            1  \n",
       "5              1.0              0.0            1  \n",
       "6              1.0              0.0            2  \n",
       "7              1.0              0.0            3  \n",
       "8              1.0              0.0            8  \n",
       "9              1.0              0.0           14  "
      ]
     },
     "execution_count": 5,
     "metadata": {},
     "output_type": "execute_result"
    }
   ],
   "source": [
    "data.head(n=10)"
   ]
  },
  {
   "cell_type": "code",
   "execution_count": 6,
   "metadata": {},
   "outputs": [
    {
     "name": "stdout",
     "output_type": "stream",
     "text": [
      "Hidden layer size were recommended being btw 2 and 38\n"
     ]
    }
   ],
   "source": [
    "SIZE_INPUT = 19\n",
    "SIZE_OUTPUT = 1\n",
    "\n",
    "SIZE_RULE_2 = int(2/3 * (SIZE_INPUT + SIZE_OUTPUT))\n",
    "\n",
    "MIN_SIZE = SIZE_OUTPUT + 1\n",
    "MAX_SIZE = 2 * SIZE_INPUT\n",
    "\n",
    "print('Hidden layer size were recommended being btw {} and {}'.format(MIN_SIZE, MAX_SIZE))"
   ]
  },
  {
   "cell_type": "markdown",
   "metadata": {},
   "source": [
    "## Split Train and Test data ##"
   ]
  },
  {
   "cell_type": "code",
   "execution_count": 7,
   "metadata": {},
   "outputs": [],
   "source": [
    "X = data.iloc[:,0:-1]\n",
    "y = data.iloc[:,-1]"
   ]
  },
  {
   "cell_type": "code",
   "execution_count": 8,
   "metadata": {},
   "outputs": [
    {
     "data": {
      "text/plain": [
       "(17379, 19)"
      ]
     },
     "execution_count": 8,
     "metadata": {},
     "output_type": "execute_result"
    }
   ],
   "source": [
    "X.shape"
   ]
  },
  {
   "cell_type": "code",
   "execution_count": 9,
   "metadata": {},
   "outputs": [
    {
     "data": {
      "text/plain": [
       "(17379,)"
      ]
     },
     "execution_count": 9,
     "metadata": {},
     "output_type": "execute_result"
    }
   ],
   "source": [
    "y.shape"
   ]
  },
  {
   "cell_type": "code",
   "execution_count": 10,
   "metadata": {},
   "outputs": [],
   "source": [
    "from sklearn.model_selection import train_test_split"
   ]
  },
  {
   "cell_type": "code",
   "execution_count": 11,
   "metadata": {},
   "outputs": [],
   "source": [
    "test_size=0.33\n",
    "X_train, X_test, y_train, y_test = train_test_split(X, y, test_size=0.33, random_state=43)\n",
    "\n",
    "y_train = y_train.values.flatten()\n",
    "y_test = y_test.values.flatten()"
   ]
  },
  {
   "cell_type": "markdown",
   "metadata": {},
   "source": [
    "## Build model ##"
   ]
  },
  {
   "cell_type": "code",
   "execution_count": 13,
   "metadata": {},
   "outputs": [],
   "source": [
    "from utils.nn import create_mlp_nn\n",
    "from sklearn import metrics"
   ]
  },
  {
   "cell_type": "code",
   "execution_count": 17,
   "metadata": {},
   "outputs": [
    {
     "data": {
      "text/plain": [
       "MLPRegressor(activation='relu', alpha=0.0001, batch_size='auto', beta_1=0.9,\n",
       "       beta_2=0.999, early_stopping=True, epsilon=1e-08,\n",
       "       hidden_layer_sizes=(160, 80, 40), learning_rate='constant',\n",
       "       learning_rate_init=0.001, max_iter=1000, momentum=0.9,\n",
       "       nesterovs_momentum=True, power_t=0.5, random_state=13, shuffle=True,\n",
       "       solver='adam', tol=1e-05, validation_fraction=0.1, verbose=False,\n",
       "       warm_start=False)"
      ]
     },
     "execution_count": 17,
     "metadata": {},
     "output_type": "execute_result"
    }
   ],
   "source": [
    "dnn = create_mlp_nn(hidden_layer_sizes=(160, 80, 40), verbose=False)\n",
    "dnn.fit(X_train, y_train)"
   ]
  },
  {
   "cell_type": "code",
   "execution_count": 18,
   "metadata": {},
   "outputs": [
    {
     "name": "stdout",
     "output_type": "stream",
     "text": [
      "R-squared::0.9106457314393288\n",
      "Pred R-squared::0.9002130472935612\n",
      "MSE::3336.8798909376187\n"
     ]
    }
   ],
   "source": [
    "print(\"R-squared::{}\".format(dnn.score(X_train, y_train)))\n",
    "print(\"Pred R-squared::{}\".format(dnn.score(X_test, y_test)))\n",
    "print(\"MSE::{}\".format(metrics.mean_squared_error(y_test, dnn.predict(X_test))))"
   ]
  },
  {
   "cell_type": "markdown",
   "metadata": {},
   "source": [
    "## Test size of hidden layers ##"
   ]
  },
  {
   "cell_type": "markdown",
   "metadata": {},
   "source": [
    "I use `predict-r2` and `MSE` as the evaluating measure."
   ]
  },
  {
   "cell_type": "markdown",
   "metadata": {},
   "source": [
    "### Experiment 1: 2 hidden layers, later one has 2/3 size of input + output ###"
   ]
  },
  {
   "cell_type": "code",
   "execution_count": 24,
   "metadata": {},
   "outputs": [
    {
     "name": "stdout",
     "output_type": "stream",
     "text": [
      "Done 2/38. Result: R2=0.5901009090145379, MSE=13707.042823993768\n",
      "Done 3/38. Result: R2=0.5912882249884386, MSE=13667.338927942812\n",
      "Done 4/38. Result: R2=0.6808065542541837, MSE=10673.842236286422\n",
      "Done 5/38. Result: R2=0.771016468959812, MSE=7657.218898464167\n",
      "Done 6/38. Result: R2=0.6675587028726213, MSE=11116.85094307914\n",
      "Done 7/38. Result: R2=0.8649887396751468, MSE=4514.782217606256\n",
      "Done 8/38. Result: R2=0.7780391099175178, MSE=7422.381489790288\n",
      "Done 9/38. Result: R2=0.7096397200185008, MSE=9709.659961735282\n",
      "Done 10/38. Result: R2=0.6718424110075263, MSE=10973.603563072833\n",
      "Done 11/38. Result: R2=0.6905200937472437, MSE=10349.02106753528\n",
      "Done 12/38. Result: R2=0.7480536141777407, MSE=8425.097727134618\n",
      "Done 13/38. Result: R2=0.6262425938966737, MSE=12498.46336308373\n",
      "Done 14/38. Result: R2=0.595873176562977, MSE=13514.017954658766\n",
      "Done 15/38. Result: R2=0.6401821230987452, MSE=12032.324920913134\n",
      "Done 16/38. Result: R2=0.80805949646165, MSE=6418.498502482416\n",
      "Done 17/38. Result: R2=0.6842707670691268, MSE=10557.998814209797\n",
      "Done 18/38. Result: R2=0.6649173554096921, MSE=11205.177713212674\n",
      "Done 19/38. Result: R2=0.7713859736386685, MSE=7644.8626464788895\n",
      "Done 20/38. Result: R2=0.8000063123560509, MSE=6687.797317318935\n",
      "Done 21/38. Result: R2=0.6587853334533924, MSE=11410.2327850612\n",
      "Done 22/38. Result: R2=0.6612376861753306, MSE=11328.2260070068\n",
      "Done 23/38. Result: R2=0.7685625043340779, MSE=7739.279578649217\n",
      "Done 24/38. Result: R2=0.7704469050706142, MSE=7676.265138848518\n",
      "Done 25/38. Result: R2=0.7458216803753052, MSE=8499.733687260197\n",
      "Done 26/38. Result: R2=0.8241274655516159, MSE=5881.184941036671\n",
      "Done 27/38. Result: R2=0.759707445576569, MSE=8035.393115535451\n",
      "Done 28/38. Result: R2=0.8031147406455215, MSE=6583.851344721992\n",
      "Done 29/38. Result: R2=0.6871748193724987, MSE=10460.887183174616\n",
      "Done 30/38. Result: R2=0.6886222239167923, MSE=10412.485914402396\n",
      "Done 31/38. Result: R2=0.6530961527504014, MSE=11600.479226793615\n",
      "Done 32/38. Result: R2=0.8413227714531769, MSE=5306.173189247425\n",
      "Done 33/38. Result: R2=0.6607954500847575, MSE=11343.014400455611\n",
      "Done 34/38. Result: R2=0.8231638463369756, MSE=5913.4084080595985\n",
      "Done 35/38. Result: R2=0.6711837648535321, MSE=10995.62871813466\n",
      "Done 36/38. Result: R2=0.8305183295477677, MSE=5667.4741805005415\n",
      "Done 37/38. Result: R2=0.8278509169131867, MSE=5756.67257106921\n",
      "Done 38/38. Result: R2=0.7845585202587639, MSE=7204.372134073467\n"
     ]
    }
   ],
   "source": [
    "pred_history = []\n",
    "for size1 in range(MIN_SIZE, MAX_SIZE + 1):\n",
    "    # Use 2 layers\n",
    "    hls = (size1, SIZE_RULE_2)\n",
    "    \n",
    "    dnn = create_mlp_nn(hidden_layer_sizes=hls, verbose=False)\n",
    "    dnn.fit(X_train, y_train)\n",
    "    \n",
    "    r2 = dnn.score(X_test, y_test)\n",
    "    mse = metrics.mean_squared_error(y_test, dnn.predict(X_test))\n",
    "    \n",
    "    pred_history.append({'size': hls, \n",
    "                          'score': r2,\n",
    "                          'mse': mse })\n",
    "    \n",
    "    print('Done {}/{}. Result: R2={}, MSE={}'.format(size1, MAX_SIZE, r2, mse))"
   ]
  },
  {
   "cell_type": "code",
   "execution_count": 19,
   "metadata": {},
   "outputs": [
    {
     "name": "stderr",
     "output_type": "stream",
     "text": [
      "/Users/magicii/anaconda3/lib/python3.6/site-packages/matplotlib/__init__.py:886: MatplotlibDeprecationWarning: \n",
      "examples.directory is deprecated; in the future, examples will be found relative to the 'datapath' directory.\n",
      "  \"found relative to the 'datapath' directory.\".format(key))\n"
     ]
    }
   ],
   "source": [
    "from matplotlib import pyplot as plt\n",
    "import seaborn as sn"
   ]
  },
  {
   "cell_type": "code",
   "execution_count": 54,
   "metadata": {},
   "outputs": [],
   "source": [
    "hist_df = pd.DataFrame(data={'x': [ins['size'][0] for ins in pred_history],\n",
    "                             'r2': [ins['score'] for ins in pred_history],\n",
    "                             'mse': [ins['mse'] for ins in pred_history]})\n",
    "\n",
    "# Store the result to compare later\n",
    "hist_df.to_csv('./output/output_ex1.csv', index=False)"
   ]
  },
  {
   "cell_type": "code",
   "execution_count": 48,
   "metadata": {},
   "outputs": [
    {
     "name": "stderr",
     "output_type": "stream",
     "text": [
      "/Users/magicii/anaconda3/lib/python3.6/site-packages/ipykernel_launcher.py:2: RuntimeWarning: Second argument 'r2' is ambiguous: could be a color spec but is in data; using as data.  Either rename the entry in data or use three arguments to plot.\n",
      "  \n"
     ]
    },
    {
     "data": {
      "image/png": "[encoded data removed]",
      "text/plain": [
       "<Figure size 432x288 with 2 Axes>"
      ]
     },
     "metadata": {},
     "output_type": "display_data"
    }
   ],
   "source": [
    "ax1 = plt.subplot()\n",
    "ax1.plot('x', 'r2', data=hist_df, color='red', label='R2 (pred)')\n",
    "ax1.set_xlabel('Size of prior (first) hidden layer')\n",
    "ax1.set_ylabel('R2 (pred)')\n",
    "\n",
    "ax2 = ax1.twinx()\n",
    "ax2.plot('x', 'mse', data=hist_df, color='lightgray', linestyle='dashed', linewidth=1, label='MSE')\n",
    "ax2.set_ylabel('MSE')\n",
    "\n",
    "plt.show()"
   ]
  },
  {
   "cell_type": "markdown",
   "metadata": {},
   "source": [
    "### Experiment 2: 2 hidden layers, prior one has 2/3 size of input + output ###"
   ]
  },
  {
   "cell_type": "code",
   "execution_count": 41,
   "metadata": {},
   "outputs": [
    {
     "name": "stdout",
     "output_type": "stream",
     "text": [
      "Done 2/38. Result: R2=0.597726767099166, MSE=13452.03380925213\n"
     ]
    },
    {
     "name": "stderr",
     "output_type": "stream",
     "text": [
      "/Users/magicii/anaconda3/lib/python3.6/site-packages/sklearn/neural_network/multilayer_perceptron.py:564: ConvergenceWarning: Stochastic Optimizer: Maximum iterations (1000) reached and the optimization hasn't converged yet.\n",
      "  % self.max_iter, ConvergenceWarning)\n"
     ]
    },
    {
     "name": "stdout",
     "output_type": "stream",
     "text": [
      "Done 3/38. Result: R2=-0.5545705833092343, MSE=51984.90561935985\n",
      "Done 4/38. Result: R2=0.6757013826319742, MSE=10844.559389821032\n",
      "Done 5/38. Result: R2=0.6589927330252379, MSE=11403.29733466503\n",
      "Done 6/38. Result: R2=0.5370971660120396, MSE=15479.490216888744\n",
      "Done 7/38. Result: R2=0.6581344786342473, MSE=11431.997397558329\n",
      "Done 8/38. Result: R2=0.6932853249207368, MSE=10256.551620915654\n",
      "Done 9/38. Result: R2=0.6812038597524555, MSE=10660.556323731877\n",
      "Done 10/38. Result: R2=0.8491573347440565, MSE=5044.185063640227\n",
      "Done 11/38. Result: R2=0.6708353558417472, MSE=11007.279530126752\n",
      "Done 12/38. Result: R2=0.579291931251354, MSE=14068.495494521432\n",
      "Done 13/38. Result: R2=0.6262425938966737, MSE=12498.46336308373\n",
      "Done 14/38. Result: R2=0.7537920976045108, MSE=8233.202600247634\n",
      "Done 15/38. Result: R2=0.7699708585911119, MSE=7692.184153123613\n",
      "Done 16/38. Result: R2=0.6711227728076832, MSE=10997.668294710364\n",
      "Done 17/38. Result: R2=0.7985993558535814, MSE=6734.846001873173\n",
      "Done 18/38. Result: R2=0.612171104662206, MSE=12969.0145542818\n",
      "Done 19/38. Result: R2=0.8633555218007711, MSE=4569.397091943151\n",
      "Done 20/38. Result: R2=0.7877993747655155, MSE=7095.997823206917\n",
      "Done 21/38. Result: R2=0.8333433982332701, MSE=5573.003764965319\n",
      "Done 22/38. Result: R2=0.6907562293227216, MSE=10341.124683970329\n",
      "Done 23/38. Result: R2=0.7982053120908622, MSE=6748.022841853809\n",
      "Done 24/38. Result: R2=0.8211637081559999, MSE=5980.293112864933\n",
      "Done 25/38. Result: R2=0.8387552591110415, MSE=5392.03090983952\n",
      "Done 26/38. Result: R2=0.7000955470883037, MSE=10028.817505508545\n",
      "Done 27/38. Result: R2=0.8330673266729135, MSE=5582.235609542475\n",
      "Done 28/38. Result: R2=0.8363272717211107, MSE=5473.222910167912\n",
      "Done 29/38. Result: R2=0.8390419792092225, MSE=5382.44297771013\n",
      "Done 30/38. Result: R2=0.861187779457332, MSE=4641.886486982963\n",
      "Done 31/38. Result: R2=0.6506933990121231, MSE=11680.827412750587\n",
      "Done 32/38. Result: R2=0.8345812225194232, MSE=5531.610868830595\n",
      "Done 33/38. Result: R2=0.8067536990116285, MSE=6462.164424072712\n",
      "Done 34/38. Result: R2=0.7411969296222003, MSE=8654.385546747624\n",
      "Done 35/38. Result: R2=0.8474421203831305, MSE=5101.541903932357\n",
      "Done 36/38. Result: R2=0.78866725053345, MSE=7066.976021064383\n",
      "Done 37/38. Result: R2=0.7648752602641424, MSE=7862.581175263192\n",
      "Done 38/38. Result: R2=0.8024854699326237, MSE=6604.894183799381\n"
     ]
    }
   ],
   "source": [
    "pred_history_2 = []\n",
    "for size2 in range(MIN_SIZE, MAX_SIZE + 1):\n",
    "    # Use 2 layers\n",
    "    hls = (SIZE_RULE_2, size2)\n",
    "    \n",
    "    dnn = create_mlp_nn(hidden_layer_sizes=hls, verbose=False)\n",
    "    dnn.fit(X_train, y_train)\n",
    "    \n",
    "    r2 = dnn.score(X_test, y_test)\n",
    "    mse = metrics.mean_squared_error(y_test, dnn.predict(X_test))\n",
    "    \n",
    "    pred_history_2.append({'size': hls, \n",
    "                           'score': r2,\n",
    "                           'mse': mse })\n",
    "    \n",
    "    print('Done {}/{}. Result: R2={}, MSE={}'.format(size2, MAX_SIZE, r2, mse))"
   ]
  },
  {
   "cell_type": "code",
   "execution_count": 55,
   "metadata": {},
   "outputs": [],
   "source": [
    "hist_df = pd.DataFrame(data={'x': [ins['size'][1] for ins in pred_history_2],\n",
    "                             'r2': [ins['score'] for ins in pred_history_2],\n",
    "                             'mse': [ins['mse'] for ins in pred_history_2]})\n",
    "\n",
    "# Store the result to compare later\n",
    "hist_df.to_csv('./output/output_ex2.csv', index=False)"
   ]
  },
  {
   "cell_type": "code",
   "execution_count": 50,
   "metadata": {},
   "outputs": [
    {
     "name": "stderr",
     "output_type": "stream",
     "text": [
      "/Users/magicii/anaconda3/lib/python3.6/site-packages/ipykernel_launcher.py:2: RuntimeWarning: Second argument 'r2' is ambiguous: could be a color spec but is in data; using as data.  Either rename the entry in data or use three arguments to plot.\n",
      "  \n"
     ]
    },
    {
     "data": {
      "image/png": "[encoded data removed]",
      "text/plain": [
       "<Figure size 432x288 with 2 Axes>"
      ]
     },
     "metadata": {},
     "output_type": "display_data"
    }
   ],
   "source": [
    "ax1 = plt.subplot()\n",
    "ax1.plot('x', 'r2', data=hist_df, color='red', label='R2 (pred)')\n",
    "ax1.set_xlabel('Size of later (second) hidden layer')\n",
    "ax1.set_ylabel('R2 (pred)')\n",
    "\n",
    "ax2 = ax1.twinx()\n",
    "ax2.plot('x', 'mse', data=hist_df, color='lightgray', linestyle='dashed', linewidth=1, label='MSE')\n",
    "ax2.set_ylabel('MSE')\n",
    "\n",
    "plt.show()"
   ]
  },
  {
   "cell_type": "code",
   "execution_count": 53,
   "metadata": {},
   "outputs": [
    {
     "name": "stderr",
     "output_type": "stream",
     "text": [
      "/Users/magicii/anaconda3/lib/python3.6/site-packages/ipykernel_launcher.py:2: RuntimeWarning: Second argument 'r2' is ambiguous: could be a color spec but is in data; using as data.  Either rename the entry in data or use three arguments to plot.\n",
      "  \n"
     ]
    },
    {
     "data": {
      "image/png": "[encoded data removed]",
      "text/plain": [
       "<Figure size 432x288 with 2 Axes>"
      ]
     },
     "metadata": {},
     "output_type": "display_data"
    }
   ],
   "source": [
    "ax1 = plt.subplot()\n",
    "ax1.plot('x', 'r2', data=hist_df, color='red', label='R2 (pred)')\n",
    "ax1.set_xlabel('Size of later (second) hidden layer')\n",
    "ax1.set_ylabel('R2 (pred)')\n",
    "ax1.set_ylim((0.585, 0.875))\n",
    "\n",
    "ax2 = ax1.twinx()\n",
    "ax2.plot('x', 'mse', data=hist_df, color='lightgray', linestyle='dashed', linewidth=1, label='MSE')\n",
    "ax2.set_ylabel('MSE')\n",
    "\n",
    "plt.show()"
   ]
  },
  {
   "cell_type": "markdown",
   "metadata": {},
   "source": [
    "## Experiment 3: ##"
   ]
  },
  {
   "cell_type": "code",
   "execution_count": 57,
   "metadata": {},
   "outputs": [
    {
     "name": "stdout",
     "output_type": "stream",
     "text": [
      "Done 38/76. Result: R2=0.7845585202587639, MSE=7204.372134073467\n",
      "Done 39/76. Result: R2=0.7776147612266703, MSE=7436.5717278407465\n",
      "Done 40/76. Result: R2=0.7993805617795176, MSE=6708.722442888404\n",
      "Done 41/76. Result: R2=0.6862703493337141, MSE=10491.132699271842\n",
      "Done 42/76. Result: R2=0.7708253641196195, MSE=7663.609452349252\n",
      "Done 43/76. Result: R2=0.7532845694056916, MSE=8250.174364539364\n",
      "Done 44/76. Result: R2=0.6875770097166654, MSE=10447.437921168117\n",
      "Done 45/76. Result: R2=0.7892874807719447, MSE=7046.235495830856\n",
      "Done 46/76. Result: R2=0.8005669275701242, MSE=6669.050321006716\n",
      "Done 47/76. Result: R2=0.7874696350783152, MSE=7107.024332200523\n",
      "Done 48/76. Result: R2=0.6594609190818479, MSE=11387.641173261693\n",
      "Done 49/76. Result: R2=0.6816042200201919, MSE=10647.168259558093\n",
      "Done 50/76. Result: R2=0.6778055095518141, MSE=10774.19729721911\n",
      "Done 51/76. Result: R2=0.8015199213037442, MSE=6637.182170515529\n",
      "Done 52/76. Result: R2=0.8168755171527825, MSE=6123.690400175944\n",
      "Done 53/76. Result: R2=0.8318918885634616, MSE=5621.542309307229\n",
      "Done 54/76. Result: R2=0.8112514288461025, MSE=6311.7601494409455\n",
      "Done 55/76. Result: R2=0.7852056455030656, MSE=7182.732238715797\n",
      "Done 56/76. Result: R2=0.7001786999577223, MSE=10026.036870061618\n",
      "Done 57/76. Result: R2=0.6774305299105968, MSE=10786.736632175753\n",
      "Done 58/76. Result: R2=0.791960852721345, MSE=6956.837825524256\n",
      "Done 59/76. Result: R2=0.7778509569467568, MSE=7428.673333037559\n",
      "Done 60/76. Result: R2=0.736633916741041, MSE=8806.972889203344\n",
      "Done 61/76. Result: R2=0.6821892072744292, MSE=10627.606261198829\n",
      "Done 62/76. Result: R2=0.8435654865977777, MSE=5231.176700586871\n",
      "Done 63/76. Result: R2=0.8014990800304231, MSE=6637.879103571005\n",
      "Done 64/76. Result: R2=0.8210184599549346, MSE=5985.150218810994\n",
      "Done 65/76. Result: R2=0.8277495538536079, MSE=5760.062156040172\n",
      "Done 66/76. Result: R2=0.7878004632329909, MSE=7095.961424808806\n",
      "Done 67/76. Result: R2=0.8114801805157038, MSE=6304.110683998742\n",
      "Done 68/76. Result: R2=0.6875107622723904, MSE=10449.653238487983\n",
      "Done 69/76. Result: R2=0.8193427661115342, MSE=6041.185491336661\n",
      "Done 70/76. Result: R2=0.8692197259218991, MSE=4373.297859754832\n",
      "Done 71/76. Result: R2=0.8245069974628162, MSE=5868.493377980536\n",
      "Done 72/76. Result: R2=0.7730753625165275, MSE=7588.3694114255495\n",
      "Done 73/76. Result: R2=0.668206400882359, MSE=11095.19189442122\n",
      "Done 74/76. Result: R2=0.6580937396590296, MSE=11433.359710601211\n",
      "Done 75/76. Result: R2=0.76786145093873, MSE=7762.722833643604\n",
      "Done 76/76. Result: R2=0.8559334304770843, MSE=4817.592137637894\n"
     ]
    }
   ],
   "source": [
    "pred_history_3 = []\n",
    "size_from = MAX_SIZE\n",
    "size_to = 4 * SIZE_INPUT\n",
    "for size1 in range(size_from, size_to + 1):\n",
    "    # Use 2 layers\n",
    "    hls = (size1, SIZE_RULE_2)\n",
    "    \n",
    "    dnn = create_mlp_nn(hidden_layer_sizes=hls, verbose=False)\n",
    "    dnn.fit(X_train, y_train)\n",
    "    \n",
    "    r2 = dnn.score(X_test, y_test)\n",
    "    mse = metrics.mean_squared_error(y_test, dnn.predict(X_test))\n",
    "    \n",
    "    pred_history_3.append({'size': hls, \n",
    "                          'score': r2,\n",
    "                          'mse': mse })\n",
    "    \n",
    "    print('Done {}/{}. Result: R2={}, MSE={}'.format(size1, size_to, r2, mse))"
   ]
  },
  {
   "cell_type": "code",
   "execution_count": 58,
   "metadata": {},
   "outputs": [],
   "source": [
    "hist_df = pd.DataFrame(data={'x': [ins['size'][0] for ins in pred_history_3],\n",
    "                             'r2': [ins['score'] for ins in pred_history_3],\n",
    "                             'mse': [ins['mse'] for ins in pred_history_3]})\n",
    "\n",
    "# Store the result to compare later\n",
    "hist_df.to_csv('./output/output_ex3.csv', index=False)"
   ]
  },
  {
   "cell_type": "code",
   "execution_count": 60,
   "metadata": {},
   "outputs": [
    {
     "name": "stderr",
     "output_type": "stream",
     "text": [
      "/Users/magicii/anaconda3/lib/python3.6/site-packages/ipykernel_launcher.py:2: RuntimeWarning: Second argument 'r2' is ambiguous: could be a color spec but is in data; using as data.  Either rename the entry in data or use three arguments to plot.\n",
      "  \n"
     ]
    },
    {
     "data": {
      "image/png": "[encoded data removed]",
      "text/plain": [
       "<Figure size 432x288 with 2 Axes>"
      ]
     },
     "metadata": {},
     "output_type": "display_data"
    }
   ],
   "source": [
    "ax1 = plt.subplot()\n",
    "ax1.plot('x', 'r2', data=hist_df, color='red', label='R2 (pred)')\n",
    "ax1.set_xlabel('Size of prior (first) hidden layer')\n",
    "ax1.set_ylabel('R2 (pred)')\n",
    "ax1.set_ylim((0.585, 0.875))\n",
    "\n",
    "ax2 = ax1.twinx()\n",
    "ax2.plot('x', 'mse', data=hist_df, color='lightgray', linestyle='dashed', linewidth=1, label='MSE')\n",
    "ax2.set_ylabel('MSE')\n",
    "\n",
    "plt.show()"
   ]
  },
  {
   "cell_type": "markdown",
   "metadata": {},
   "source": [
    "## Experiment 4: ##"
   ]
  },
  {
   "cell_type": "code",
   "execution_count": 61,
   "metadata": {},
   "outputs": [
    {
     "name": "stdout",
     "output_type": "stream",
     "text": [
      "Done 38/76. Result: R2=0.8024854699326237, MSE=6604.894183799381\n",
      "Done 39/76. Result: R2=0.8010447299438253, MSE=6653.072589555836\n",
      "Done 40/76. Result: R2=0.8180116171853546, MSE=6085.6991673548\n",
      "Done 41/76. Result: R2=0.7622617217907373, MSE=7949.978011618681\n",
      "Done 42/76. Result: R2=0.8061825145841295, MSE=6481.264855325936\n",
      "Done 43/76. Result: R2=0.8363278853090361, MSE=5473.2023917619\n",
      "Done 44/76. Result: R2=0.6550470930664846, MSE=11535.239700657277\n",
      "Done 45/76. Result: R2=0.8074373570438711, MSE=6439.302870751414\n",
      "Done 46/76. Result: R2=0.8294528626292725, MSE=5703.103439019385\n",
      "Done 47/76. Result: R2=0.7907780595844425, MSE=6996.390477715973\n",
      "Done 48/76. Result: R2=0.8462061250030318, MSE=5142.873641371785\n",
      "Done 49/76. Result: R2=0.8365202025452361, MSE=5466.771295303385\n",
      "Done 50/76. Result: R2=0.794806817336294, MSE=6861.6686492304225\n",
      "Done 51/76. Result: R2=0.8398743796838066, MSE=5354.607470867684\n",
      "Done 52/76. Result: R2=0.8567933357851836, MSE=4788.836868007116\n",
      "Done 53/76. Result: R2=0.6829858701172244, MSE=10600.965822264883\n",
      "Done 54/76. Result: R2=0.7931376076712291, MSE=6917.487090560122\n",
      "Done 55/76. Result: R2=0.8594776926138564, MSE=4699.071862876124\n",
      "Done 56/76. Result: R2=0.8065669002357314, MSE=6468.410982986848\n",
      "Done 57/76. Result: R2=0.8379010737892076, MSE=5420.594902889257\n",
      "Done 58/76. Result: R2=0.87115906989573, MSE=4308.446115790614\n",
      "Done 59/76. Result: R2=0.8722190991879584, MSE=4272.9986917225815\n",
      "Done 60/76. Result: R2=0.852731742997732, MSE=4924.65670146266\n",
      "Done 61/76. Result: R2=0.7950052431614429, MSE=6855.033281300806\n",
      "Done 62/76. Result: R2=0.8024680167065396, MSE=6605.477820412907\n",
      "Done 63/76. Result: R2=0.796301118708811, MSE=6811.699148552095\n",
      "Done 64/76. Result: R2=0.8426119063723161, MSE=5263.06446338989\n",
      "Done 65/76. Result: R2=0.8221919061262037, MSE=5945.910129542761\n",
      "Done 66/76. Result: R2=0.8348348608256472, MSE=5523.129193214139\n",
      "Done 67/76. Result: R2=0.7912896886079642, MSE=6979.281581673898\n",
      "Done 68/76. Result: R2=0.8191016265399879, MSE=6049.249208740371\n",
      "Done 69/76. Result: R2=0.8164605346791399, MSE=6137.567431529572\n",
      "Done 70/76. Result: R2=0.8370081591624358, MSE=5450.454005523294\n",
      "Done 71/76. Result: R2=0.8360273000752383, MSE=5483.253974608849\n",
      "Done 72/76. Result: R2=0.7860200548873332, MSE=7155.4983546894155\n",
      "Done 73/76. Result: R2=0.8392129374067492, MSE=5376.726128402227\n",
      "Done 74/76. Result: R2=0.830766047099438, MSE=5659.190495165111\n",
      "Done 75/76. Result: R2=0.8040926903700016, MSE=6551.148664847944\n",
      "Done 76/76. Result: R2=0.8197448755267447, MSE=6027.738935597853\n"
     ]
    }
   ],
   "source": [
    "pred_history_4 = []\n",
    "size_from = MAX_SIZE\n",
    "size_to = 4 * SIZE_INPUT\n",
    "for size1 in range(size_from, size_to + 1):\n",
    "    # Use 2 layers\n",
    "    hls = (SIZE_RULE_2, size1)\n",
    "    \n",
    "    dnn = create_mlp_nn(hidden_layer_sizes=hls, verbose=False)\n",
    "    dnn.fit(X_train, y_train)\n",
    "    \n",
    "    r2 = dnn.score(X_test, y_test)\n",
    "    mse = metrics.mean_squared_error(y_test, dnn.predict(X_test))\n",
    "    \n",
    "    pred_history_4.append({'size': hls, \n",
    "                          'score': r2,\n",
    "                          'mse': mse })\n",
    "    \n",
    "    print('Done {}/{}. Result: R2={}, MSE={}'.format(size1, size_to, r2, mse))"
   ]
  },
  {
   "cell_type": "code",
   "execution_count": 62,
   "metadata": {},
   "outputs": [],
   "source": [
    "hist_df = pd.DataFrame(data={'x': [ins['size'][1] for ins in pred_history_4],\n",
    "                             'r2': [ins['score'] for ins in pred_history_4],\n",
    "                             'mse': [ins['mse'] for ins in pred_history_4]})\n",
    "\n",
    "# Store the result to compare later\n",
    "hist_df.to_csv('./output/output_ex4.csv', index=False)"
   ]
  },
  {
   "cell_type": "code",
   "execution_count": 64,
   "metadata": {},
   "outputs": [
    {
     "name": "stderr",
     "output_type": "stream",
     "text": [
      "/Users/magicii/anaconda3/lib/python3.6/site-packages/ipykernel_launcher.py:2: RuntimeWarning: Second argument 'r2' is ambiguous: could be a color spec but is in data; using as data.  Either rename the entry in data or use three arguments to plot.\n",
      "  \n"
     ]
    },
    {
     "data": {
      "image/png": "[encoded data removed]",
      "text/plain": [
       "<Figure size 432x288 with 2 Axes>"
      ]
     },
     "metadata": {},
     "output_type": "display_data"
    }
   ],
   "source": [
    "ax1 = plt.subplot()\n",
    "ax1.plot('x', 'r2', data=hist_df, color='red', label='R2 (pred)')\n",
    "ax1.set_xlabel('Size of prior (first) hidden layer')\n",
    "ax1.set_ylabel('R2 (pred)')\n",
    "ax1.set_ylim((0.585, 0.875))\n",
    "\n",
    "ax2 = ax1.twinx()\n",
    "ax2.plot('x', 'mse', data=hist_df, color='lightgray', linestyle='dashed', linewidth=1, label='MSE')\n",
    "ax2.set_ylim((2000, 10000))\n",
    "ax2.set_ylabel('MSE')\n",
    "\n",
    "plt.show()"
   ]
  },
  {
   "cell_type": "markdown",
   "metadata": {},
   "source": [
    "## Experiment 5 ##"
   ]
  },
  {
   "cell_type": "markdown",
   "metadata": {},
   "source": [
    "Suggested by **Irfan Majid**\n",
    "\n",
    "`N = 2 * input + 1`"
   ]
  },
  {
   "cell_type": "code",
   "execution_count": 65,
   "metadata": {},
   "outputs": [
    {
     "name": "stdout",
     "output_type": "stream",
     "text": [
      "Done 33/43. Result: R2=0.7990835930119107, MSE=6718.653090953978\n",
      "Done 34/43. Result: R2=0.8306949688983607, MSE=5661.567353195406\n",
      "Done 35/43. Result: R2=0.8146723764614189, MSE=6197.363517457575\n",
      "Done 36/43. Result: R2=0.8717098380516471, MSE=4290.028405516851\n",
      "Done 37/43. Result: R2=0.834059840647208, MSE=5549.045900542732\n",
      "Done 38/43. Result: R2=0.81906819692561, MSE=6050.367096449677\n",
      "Done 39/43. Result: R2=0.8059170944433484, MSE=6490.140515984977\n",
      "Done 40/43. Result: R2=0.8558455435127615, MSE=4820.5310814173135\n",
      "Done 41/43. Result: R2=0.8074279468635334, MSE=6439.617547577264\n",
      "Done 42/43. Result: R2=0.8208421537027955, MSE=5991.045907289836\n",
      "Done 43/43. Result: R2=0.8655609745264561, MSE=4495.646660136688\n"
     ]
    }
   ],
   "source": [
    "pred_history_5 = []\n",
    "size_from = SIZE_INPUT * 2 - 5\n",
    "size_to = SIZE_INPUT * 2 + 5\n",
    "for size1 in range(size_from, size_to + 1):\n",
    "    # Use 2 layers\n",
    "    hls = (size1, size1)\n",
    "    \n",
    "    dnn = create_mlp_nn(hidden_layer_sizes=hls, verbose=False)\n",
    "    dnn.fit(X_train, y_train)\n",
    "    \n",
    "    r2 = dnn.score(X_test, y_test)\n",
    "    mse = metrics.mean_squared_error(y_test, dnn.predict(X_test))\n",
    "    \n",
    "    pred_history_5.append({'size': hls, \n",
    "                          'score': r2,\n",
    "                          'mse': mse })\n",
    "    \n",
    "    print('Done {}/{}. Result: R2={}, MSE={}'.format(size1, size_to, r2, mse))"
   ]
  },
  {
   "cell_type": "code",
   "execution_count": 67,
   "metadata": {},
   "outputs": [],
   "source": [
    "hist_df = pd.DataFrame(data={'x': [ins['size'][1] for ins in pred_history_5],\n",
    "                             'r2': [ins['score'] for ins in pred_history_5],\n",
    "                             'mse': [ins['mse'] for ins in pred_history_5]})\n",
    "\n",
    "# Store the result to compare later\n",
    "hist_df.to_csv('./output/output_ex5.csv', index=False)"
   ]
  },
  {
   "cell_type": "code",
   "execution_count": 70,
   "metadata": {},
   "outputs": [
    {
     "name": "stderr",
     "output_type": "stream",
     "text": [
      "/Users/magicii/anaconda3/lib/python3.6/site-packages/ipykernel_launcher.py:2: RuntimeWarning: Second argument 'r2' is ambiguous: could be a color spec but is in data; using as data.  Either rename the entry in data or use three arguments to plot.\n",
      "  \n"
     ]
    },
    {
     "data": {
      "image/png": "[encoded data removed]",
      "text/plain": [
       "<Figure size 432x288 with 2 Axes>"
      ]
     },
     "metadata": {},
     "output_type": "display_data"
    }
   ],
   "source": [
    "ax1 = plt.subplot()\n",
    "ax1.plot('x', 'r2', data=hist_df, color='red', label='R2 (pred)')\n",
    "ax1.set_xlabel('Size of prior (first) hidden layer')\n",
    "ax1.set_ylabel('R2 (pred)')\n",
    "ax1.set_ylim((0.585, 0.90))\n",
    "\n",
    "ax2 = ax1.twinx()\n",
    "ax2.plot('x', 'mse', data=hist_df, color='lightgray', linestyle='dashed', linewidth=1, label='MSE')\n",
    "ax2.set_ylim((2000, 10000))\n",
    "ax2.set_ylabel('MSE')\n",
    "\n",
    "plt.show()"
   ]
  },
  {
   "cell_type": "markdown",
   "metadata": {},
   "source": [
    "## Experiment 6 ##\n",
    "\n",
    "Suggested by **Irfan Majid**\n",
    "\n",
    "`N = (4 * n^2) + 3 / (n^2-8)`"
   ]
  },
  {
   "cell_type": "code",
   "execution_count": 16,
   "metadata": {},
   "outputs": [
    {
     "name": "stdout",
     "output_type": "stream",
     "text": [
      "Done 4/9. Result: R2=0.5837717897098922, MSE=13918.688839451803\n",
      "Done 5/9. Result: R2=0.6719665970901193, MSE=10969.450775253388\n",
      "Done 6/9. Result: R2=0.6799932859189458, MSE=10701.03796358531\n",
      "Done 7/9. Result: R2=0.7229823265772918, MSE=9263.48263783501\n",
      "Done 8/9. Result: R2=0.569611967948221, MSE=14392.193874070748\n",
      "Done 9/9. Result: R2=0.6455173234117508, MSE=11853.91559829391\n"
     ]
    }
   ],
   "source": [
    "pred_history_6 = []\n",
    "size_from = int((4 * SIZE_INPUT**2 + 3) / (SIZE_INPUT**2 - 8))\n",
    "size_to = int((4 * SIZE_INPUT**2 + 3) / (SIZE_INPUT**2 - 8)) + 5\n",
    "for size1 in range(size_from, size_to + 1):\n",
    "    # Use 2 layers\n",
    "    hls = (size1, size1)\n",
    "    \n",
    "    dnn = create_mlp_nn(hidden_layer_sizes=hls, verbose=False)\n",
    "    dnn.fit(X_train, y_train)\n",
    "    \n",
    "    r2 = dnn.score(X_test, y_test)\n",
    "    mse = metrics.mean_squared_error(y_test, dnn.predict(X_test))\n",
    "    \n",
    "    pred_history_6.append({'size': hls, \n",
    "                          'score': r2,\n",
    "                          'mse': mse })\n",
    "    \n",
    "    print('Done {}/{}. Result: R2={}, MSE={}'.format(size1, size_to, r2, mse))"
   ]
  },
  {
   "cell_type": "code",
   "execution_count": 17,
   "metadata": {},
   "outputs": [],
   "source": [
    "hist_df = pd.DataFrame(data={'x': [ins['size'][1] for ins in pred_history_6],\n",
    "                             'r2': [ins['score'] for ins in pred_history_6],\n",
    "                             'mse': [ins['mse'] for ins in pred_history_6]})\n",
    "\n",
    "# Store the result to compare later\n",
    "hist_df.to_csv('./output/output_ex6.csv', index=False)"
   ]
  },
  {
   "cell_type": "code",
   "execution_count": 20,
   "metadata": {},
   "outputs": [
    {
     "name": "stderr",
     "output_type": "stream",
     "text": [
      "/Users/magicii/anaconda3/lib/python3.6/site-packages/ipykernel_launcher.py:2: RuntimeWarning: Second argument 'r2' is ambiguous: could be a color spec but is in data; using as data.  Either rename the entry in data or use three arguments to plot.\n",
      "  \n"
     ]
    },
    {
     "data": {
      "image/png": "[encoded data removed]",
      "text/plain": [
       "<Figure size 432x288 with 2 Axes>"
      ]
     },
     "metadata": {},
     "output_type": "display_data"
    }
   ],
   "source": [
    "ax1 = plt.subplot()\n",
    "ax1.plot('x', 'r2', data=hist_df, color='red', label='R2 (pred)')\n",
    "ax1.set_xlabel('Size of prior (first) hidden layer')\n",
    "ax1.set_ylabel('R2 (pred)')\n",
    "ax1.set_ylim((0.585, 0.90))\n",
    "\n",
    "ax2 = ax1.twinx()\n",
    "ax2.plot('x', 'mse', data=hist_df, color='lightgray', linestyle='dashed', linewidth=1, label='MSE')\n",
    "ax2.set_ylim((2000, 10000))\n",
    "ax2.set_ylabel('MSE')\n",
    "\n",
    "plt.show()"
   ]
  },
  {
   "cell_type": "markdown",
   "metadata": {},
   "source": [
    "## Experiment 7A: 3 hidden layers ##\n",
    "\n",
    "Keep N = `2*n + 1`. However increase the number of layers"
   ]
  },
  {
   "cell_type": "code",
   "execution_count": 21,
   "metadata": {},
   "outputs": [
    {
     "name": "stdout",
     "output_type": "stream",
     "text": [
      "Done 33/43. Result: R2=0.8683326920674839, MSE=4402.960309114181\n",
      "Done 34/43. Result: R2=0.8620748836130221, MSE=4612.221686746025\n",
      "Done 35/43. Result: R2=0.8473568750318932, MSE=5104.3925120592185\n",
      "Done 36/43. Result: R2=0.802323574403309, MSE=6610.307977101515\n",
      "Done 37/43. Result: R2=0.8593889537045761, MSE=4702.039295730721\n",
      "Done 38/43. Result: R2=0.8381689199586382, MSE=5411.638115730249\n",
      "Done 39/43. Result: R2=0.8633329558870836, MSE=4570.151697044945\n",
      "Done 40/43. Result: R2=0.8388282375744913, MSE=5389.590506955651\n",
      "Done 41/43. Result: R2=0.873757179226411, MSE=4221.565230616055\n",
      "Done 42/43. Result: R2=0.8375368292412595, MSE=5432.77525587596\n",
      "Done 43/43. Result: R2=0.8789868928311652, MSE=4046.683387952663\n"
     ]
    }
   ],
   "source": [
    "pred_history_7 = []\n",
    "VAR = 5\n",
    "size_from = SIZE_INPUT * 2 + 1 - VAR\n",
    "size_to = SIZE_INPUT * 2 + 1 + VAR\n",
    "for size1 in range(size_from, size_to + 1):\n",
    "    # Use 2 layers\n",
    "    hls = (size1, size1, size1)\n",
    "    \n",
    "    dnn = create_mlp_nn(hidden_layer_sizes=hls, verbose=False)\n",
    "    dnn.fit(X_train, y_train)\n",
    "    \n",
    "    r2 = dnn.score(X_test, y_test)\n",
    "    mse = metrics.mean_squared_error(y_test, dnn.predict(X_test))\n",
    "    \n",
    "    pred_history_7.append({'size': hls, \n",
    "                          'score': r2,\n",
    "                          'mse': mse })\n",
    "    \n",
    "    print('Done {}/{}. Result: R2={}, MSE={}'.format(size1, size_to, r2, mse))"
   ]
  },
  {
   "cell_type": "code",
   "execution_count": 22,
   "metadata": {},
   "outputs": [],
   "source": [
    "hist_df = pd.DataFrame(data={'x': [ins['size'][1] for ins in pred_history_7],\n",
    "                             'r2': [ins['score'] for ins in pred_history_7],\n",
    "                             'mse': [ins['mse'] for ins in pred_history_7]})\n",
    "\n",
    "# Store the result to compare later\n",
    "hist_df.to_csv('./output/output_ex7.csv', index=False)"
   ]
  },
  {
   "cell_type": "markdown",
   "metadata": {},
   "source": [
    "## Experiment 7B: 4 hidden layers ##"
   ]
  },
  {
   "cell_type": "code",
   "execution_count": 23,
   "metadata": {},
   "outputs": [
    {
     "name": "stdout",
     "output_type": "stream",
     "text": [
      "Done 34/44. Result: R2=0.8648187372798158, MSE=4520.46710484858\n",
      "Done 35/44. Result: R2=0.8571889190541914, MSE=4775.608546871519\n",
      "Done 36/44. Result: R2=0.8865801842351388, MSE=3792.763404380356\n",
      "Done 37/44. Result: R2=0.6141468188463268, MSE=12902.946588957439\n",
      "Done 38/44. Result: R2=0.8717659895497494, MSE=4288.150697061173\n",
      "Done 39/44. Result: R2=0.8523860675688846, MSE=4936.216102326476\n",
      "Done 40/44. Result: R2=0.8597244364789922, MSE=4690.820737659325\n",
      "Done 41/44. Result: R2=0.8573187345670791, MSE=4771.267510666499\n",
      "Done 42/44. Result: R2=0.8189811872062627, MSE=6053.276705120265\n",
      "Done 43/44. Result: R2=0.8701210086435407, MSE=4343.158927676772\n",
      "Done 44/44. Result: R2=0.8712034527400072, MSE=4306.961951613289\n"
     ]
    }
   ],
   "source": [
    "pred_history_7B = []\n",
    "VAR = 5\n",
    "size_from = SIZE_INPUT * 2 + 1 - VAR\n",
    "size_to = SIZE_INPUT * 2 + 1 + VAR\n",
    "for size1 in range(size_from, size_to + 1):\n",
    "    # Use 2 layers\n",
    "    hls = (size1, size1, size1, size1)\n",
    "    \n",
    "    dnn = create_mlp_nn(hidden_layer_sizes=hls, verbose=False)\n",
    "    dnn.fit(X_train, y_train)\n",
    "    \n",
    "    r2 = dnn.score(X_test, y_test)\n",
    "    mse = metrics.mean_squared_error(y_test, dnn.predict(X_test))\n",
    "    \n",
    "    pred_history_7B.append({'size': hls, \n",
    "                          'score': r2,\n",
    "                          'mse': mse })\n",
    "    \n",
    "    print('Done {}/{}. Result: R2={}, MSE={}'.format(size1, size_to, r2, mse))"
   ]
  },
  {
   "cell_type": "code",
   "execution_count": 24,
   "metadata": {},
   "outputs": [],
   "source": [
    "hist_df = pd.DataFrame(data={'x': [ins['size'][1] for ins in pred_history_7B],\n",
    "                             'r2': [ins['score'] for ins in pred_history_7B],\n",
    "                             'mse': [ins['mse'] for ins in pred_history_7B]})\n",
    "\n",
    "# Store the result to compare later\n",
    "hist_df.to_csv('./output/output_ex7B.csv', index=False)"
   ]
  },
  {
   "cell_type": "markdown",
   "metadata": {},
   "source": [
    "## Experiment 7C: 5 hidden layers ##"
   ]
  },
  {
   "cell_type": "code",
   "execution_count": 25,
   "metadata": {},
   "outputs": [
    {
     "name": "stdout",
     "output_type": "stream",
     "text": [
      "Done 34/44. Result: R2=0.8915679239108901, MSE=3625.973180069075\n",
      "Done 35/44. Result: R2=0.8658869001214883, MSE=4484.747694545418\n",
      "Done 36/44. Result: R2=0.8826773637722162, MSE=3923.2738846330158\n",
      "Done 37/44. Result: R2=0.8337619230015598, MSE=5559.008279129872\n",
      "Done 38/44. Result: R2=0.8850090019941951, MSE=3845.3038045289354\n",
      "Done 39/44. Result: R2=0.8841419290448879, MSE=3874.2987603828474\n",
      "Done 40/44. Result: R2=0.896122381698003, MSE=3473.671920317703\n",
      "Done 41/44. Result: R2=0.8617587289951816, MSE=4622.793910449487\n",
      "Done 42/44. Result: R2=0.8787722492094039, MSE=4053.8610796823637\n",
      "Done 43/44. Result: R2=0.8395119371420787, MSE=5366.727564690675\n",
      "Done 44/44. Result: R2=0.8823842538273946, MSE=3933.0754935025257\n"
     ]
    }
   ],
   "source": [
    "pred_history_7C = []\n",
    "VAR = 5\n",
    "size_from = SIZE_INPUT * 2 + 1 - VAR\n",
    "size_to = SIZE_INPUT * 2 + 1 + VAR\n",
    "for size1 in range(size_from, size_to + 1):\n",
    "    # Use 2 layers\n",
    "    hls = (size1, size1, size1, size1, size1)\n",
    "    \n",
    "    dnn = create_mlp_nn(hidden_layer_sizes=hls, verbose=False)\n",
    "    dnn.fit(X_train, y_train)\n",
    "    \n",
    "    r2 = dnn.score(X_test, y_test)\n",
    "    mse = metrics.mean_squared_error(y_test, dnn.predict(X_test))\n",
    "    \n",
    "    pred_history_7C.append({'size': hls, \n",
    "                          'score': r2,\n",
    "                          'mse': mse })\n",
    "    \n",
    "    print('Done {}/{}. Result: R2={}, MSE={}'.format(size1, size_to, r2, mse))"
   ]
  },
  {
   "cell_type": "code",
   "execution_count": 26,
   "metadata": {},
   "outputs": [],
   "source": [
    "hist_df = pd.DataFrame(data={'x': [ins['size'][1] for ins in pred_history_7C],\n",
    "                             'r2': [ins['score'] for ins in pred_history_7C],\n",
    "                             'mse': [ins['mse'] for ins in pred_history_7C]})\n",
    "\n",
    "# Store the result to compare later\n",
    "hist_df.to_csv('./output/output_ex7C.csv', index=False)"
   ]
  },
  {
   "cell_type": "code",
   "execution_count": null,
   "metadata": {},
   "outputs": [],
   "source": [
    "ax1 = plt.subplot()\n",
    "ax1.plot('x', 'r2', data=hist_df, color='red', label='R2 (pred)')\n",
    "ax1.set_xlabel('Size of prior (first) hidden layer')\n",
    "ax1.set_ylabel('R2 (pred)')\n",
    "ax1.set_ylim((0.585, 0.90))\n",
    "\n",
    "ax2 = ax1.twinx()\n",
    "ax2.plot('x', 'mse', data=hist_df, color='lightgray', linestyle='dashed', linewidth=1, label='MSE')\n",
    "ax2.set_ylim((2000, 10000))\n",
    "ax2.set_ylabel('MSE')\n",
    "\n",
    "plt.show()"
   ]
  },
  {
   "cell_type": "markdown",
   "metadata": {},
   "source": [
    "## Experiment 7D: 6 hidden layers ##"
   ]
  },
  {
   "cell_type": "code",
   "execution_count": 27,
   "metadata": {},
   "outputs": [
    {
     "name": "stdout",
     "output_type": "stream",
     "text": [
      "Done 34/44. Result: R2=0.8650381772834602, MSE=4513.129021907192\n",
      "Done 35/44. Result: R2=0.8291758746014174, MSE=5712.365930308196\n",
      "Done 36/44. Result: R2=0.8058881467998517, MSE=6491.108526399712\n",
      "Done 37/44. Result: R2=0.8555803118076429, MSE=4829.400440779886\n",
      "Done 38/44. Result: R2=0.8567550108992731, MSE=4790.118453802133\n",
      "Done 39/44. Result: R2=0.8847319233573188, MSE=3854.5693257872226\n",
      "Done 40/44. Result: R2=0.8628152730350171, MSE=4587.463033367901\n",
      "Done 41/44. Result: R2=0.8858716924921126, MSE=3816.4553980336236\n",
      "Done 42/44. Result: R2=0.6577754311979029, MSE=11444.003958914653\n",
      "Done 43/44. Result: R2=0.8847363519639285, MSE=3854.421232996125\n",
      "Done 44/44. Result: R2=0.8926952105395263, MSE=3588.276667845829\n"
     ]
    }
   ],
   "source": [
    "pred_history_7D = []\n",
    "VAR = 5\n",
    "size_from = SIZE_INPUT * 2 + 1 - VAR\n",
    "size_to = SIZE_INPUT * 2 + 1 + VAR\n",
    "for size1 in range(size_from, size_to + 1):\n",
    "    # Use 2 layers\n",
    "    hls = (size1, size1, size1, size1, size1, size1)\n",
    "    \n",
    "    dnn = create_mlp_nn(hidden_layer_sizes=hls, verbose=False)\n",
    "    dnn.fit(X_train, y_train)\n",
    "    \n",
    "    r2 = dnn.score(X_test, y_test)\n",
    "    mse = metrics.mean_squared_error(y_test, dnn.predict(X_test))\n",
    "    \n",
    "    pred_history_7D.append({'size': hls, \n",
    "                          'score': r2,\n",
    "                          'mse': mse })\n",
    "    \n",
    "    print('Done {}/{}. Result: R2={}, MSE={}'.format(size1, size_to, r2, mse))"
   ]
  },
  {
   "cell_type": "code",
   "execution_count": null,
   "metadata": {},
   "outputs": [],
   "source": []
  }
 ],
 "metadata": {
  "kernelspec": {
   "display_name": "Python 3",
   "language": "python",
   "name": "python3"
  },
  "language_info": {
   "codemirror_mode": {
    "name": "ipython",
    "version": 3
   },
   "file_extension": ".py",
   "mimetype": "text/x-python",
   "name": "python",
   "nbconvert_exporter": "python",
   "pygments_lexer": "ipython3",
   "version": "3.6.8"
  }
 },
 "nbformat": 4,
 "nbformat_minor": 2
}
