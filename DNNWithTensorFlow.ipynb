{
 "cells": [
  {
   "cell_type": "code",
   "execution_count": 5,
   "metadata": {},
   "outputs": [],
   "source": [
    "import pandas as pd\n",
    "import numpy as np\n",
    "from sklearn.model_selection import train_test_split"
   ]
  },
  {
   "cell_type": "code",
   "execution_count": 12,
   "metadata": {},
   "outputs": [],
   "source": [
    "import tensorflow as tf\n",
    "from tensorflow import keras\n",
    "from tensorflow.keras import layers"
   ]
  },
  {
   "cell_type": "code",
   "execution_count": 38,
   "metadata": {},
   "outputs": [],
   "source": [
    "config = tf.ConfigProto(intra_op_parallelism_threads=4, \n",
    "                        inter_op_parallelism_threads=4, \n",
    "                        allow_soft_placement=True)\n",
    "\n",
    "session = tf.Session(config=config)"
   ]
  },
  {
   "cell_type": "code",
   "execution_count": 3,
   "metadata": {},
   "outputs": [],
   "source": [
    "data = pd.read_csv('./data/hour_preprocessed.csv')"
   ]
  },
  {
   "cell_type": "code",
   "execution_count": 4,
   "metadata": {},
   "outputs": [],
   "source": [
    "X = data.iloc[:,0:-1]\n",
    "y = data.iloc[:,-1]"
   ]
  },
  {
   "cell_type": "code",
   "execution_count": 6,
   "metadata": {},
   "outputs": [],
   "source": [
    "test_size=0.33\n",
    "X_train, X_test, y_train, y_test = train_test_split(X, y, test_size=0.33, random_state=43)\n",
    "\n",
    "y_train = y_train.values.flatten()\n",
    "y_test = y_test.values.flatten()"
   ]
  },
  {
   "cell_type": "code",
   "execution_count": 9,
   "metadata": {},
   "outputs": [],
   "source": [
    "SIZE_INPUT = 19\n",
    "SIZE_OUTPUT = 1\n",
    "\n",
    "SIZE_HIDDEN = 43"
   ]
  },
  {
   "cell_type": "code",
   "execution_count": 10,
   "metadata": {},
   "outputs": [],
   "source": [
    "def build_model():\n",
    "  model = keras.Sequential([\n",
    "    layers.Dense(SIZE_INPUT, activation=tf.nn.relu, input_shape=[len(X_train.keys())]),\n",
    "    \n",
    "    layers.Dense(SIZE_HIDDEN, activation=tf.nn.relu),\n",
    "    layers.Dense(SIZE_HIDDEN, activation=tf.nn.relu),\n",
    "    layers.Dense(SIZE_HIDDEN, activation=tf.nn.relu),\n",
    "    layers.Dense(SIZE_HIDDEN, activation=tf.nn.relu),\n",
    "    layers.Dense(SIZE_HIDDEN, activation=tf.nn.relu),\n",
    "    layers.Dense(SIZE_HIDDEN, activation=tf.nn.relu),\n",
    "    layers.Dense(SIZE_HIDDEN, activation=tf.nn.relu),\n",
    "    layers.Dense(SIZE_HIDDEN, activation=tf.nn.relu),\n",
    "    \n",
    "    layers.Dense(1)\n",
    "  ])\n",
    "\n",
    "  optimizer = tf.keras.optimizers.RMSprop(0.001)\n",
    "\n",
    "  model.compile(loss='mean_squared_error',\n",
    "                optimizer=optimizer,\n",
    "                metrics=['mean_absolute_error', 'mean_squared_error'])\n",
    "  return model"
   ]
  },
  {
   "cell_type": "code",
   "execution_count": 13,
   "metadata": {},
   "outputs": [
    {
     "name": "stdout",
     "output_type": "stream",
     "text": [
      "_________________________________________________________________\n",
      "Layer (type)                 Output Shape              Param #   \n",
      "=================================================================\n",
      "dense (Dense)                (None, 19)                380       \n",
      "_________________________________________________________________\n",
      "dense_1 (Dense)              (None, 43)                860       \n",
      "_________________________________________________________________\n",
      "dense_2 (Dense)              (None, 43)                1892      \n",
      "_________________________________________________________________\n",
      "dense_3 (Dense)              (None, 43)                1892      \n",
      "_________________________________________________________________\n",
      "dense_4 (Dense)              (None, 43)                1892      \n",
      "_________________________________________________________________\n",
      "dense_5 (Dense)              (None, 43)                1892      \n",
      "_________________________________________________________________\n",
      "dense_6 (Dense)              (None, 43)                1892      \n",
      "_________________________________________________________________\n",
      "dense_7 (Dense)              (None, 43)                1892      \n",
      "_________________________________________________________________\n",
      "dense_8 (Dense)              (None, 43)                1892      \n",
      "_________________________________________________________________\n",
      "dense_9 (Dense)              (None, 1)                 44        \n",
      "=================================================================\n",
      "Total params: 14,528\n",
      "Trainable params: 14,528\n",
      "Non-trainable params: 0\n",
      "_________________________________________________________________\n"
     ]
    }
   ],
   "source": [
    "model = build_model()\n",
    "model.summary()"
   ]
  },
  {
   "cell_type": "code",
   "execution_count": 20,
   "metadata": {},
   "outputs": [
    {
     "name": "stdout",
     "output_type": "stream",
     "text": [
      "\n",
      "....................................................................................................\n",
      "....................................................................................................\n",
      ".................................."
     ]
    }
   ],
   "source": [
    "from utils.printdot import PrintDot\n",
    "\n",
    "EPOCHS = 1000\n",
    "# The patience parameter is the amount of epochs to check for improvement\n",
    "early_stop = keras.callbacks.EarlyStopping(monitor='mean_squared_error', patience=10)\n",
    "\n",
    "history = model.fit(\n",
    "  X_train, \n",
    "  y_train,\n",
    "  epochs=EPOCHS, \n",
    "  validation_split = 0.2, \n",
    "  verbose=0,\n",
    "  callbacks=[early_stop, PrintDot()])"
   ]
  },
  {
   "cell_type": "code",
   "execution_count": 21,
   "metadata": {},
   "outputs": [
    {
     "data": {
      "text/html": [
       "<div>\n",
       "<style scoped>\n",
       "    .dataframe tbody tr th:only-of-type {\n",
       "        vertical-align: middle;\n",
       "    }\n",
       "\n",
       "    .dataframe tbody tr th {\n",
       "        vertical-align: top;\n",
       "    }\n",
       "\n",
       "    .dataframe thead th {\n",
       "        text-align: right;\n",
       "    }\n",
       "</style>\n",
       "<table border=\"1\" class=\"dataframe\">\n",
       "  <thead>\n",
       "    <tr style=\"text-align: right;\">\n",
       "      <th></th>\n",
       "      <th>val_loss</th>\n",
       "      <th>val_mean_absolute_error</th>\n",
       "      <th>val_mean_squared_error</th>\n",
       "      <th>loss</th>\n",
       "      <th>mean_absolute_error</th>\n",
       "      <th>mean_squared_error</th>\n",
       "      <th>epoch</th>\n",
       "    </tr>\n",
       "  </thead>\n",
       "  <tbody>\n",
       "    <tr>\n",
       "      <th>229</th>\n",
       "      <td>3387.197470</td>\n",
       "      <td>35.938905</td>\n",
       "      <td>3387.197470</td>\n",
       "      <td>1287.723613</td>\n",
       "      <td>22.627280</td>\n",
       "      <td>1287.723613</td>\n",
       "      <td>229</td>\n",
       "    </tr>\n",
       "    <tr>\n",
       "      <th>230</th>\n",
       "      <td>3583.911405</td>\n",
       "      <td>37.970626</td>\n",
       "      <td>3583.911405</td>\n",
       "      <td>1283.962439</td>\n",
       "      <td>22.762362</td>\n",
       "      <td>1283.962439</td>\n",
       "      <td>230</td>\n",
       "    </tr>\n",
       "    <tr>\n",
       "      <th>231</th>\n",
       "      <td>2351.273365</td>\n",
       "      <td>29.150850</td>\n",
       "      <td>2351.273365</td>\n",
       "      <td>1294.638599</td>\n",
       "      <td>22.721704</td>\n",
       "      <td>1294.638599</td>\n",
       "      <td>231</td>\n",
       "    </tr>\n",
       "    <tr>\n",
       "      <th>232</th>\n",
       "      <td>3950.730103</td>\n",
       "      <td>39.408807</td>\n",
       "      <td>3950.730103</td>\n",
       "      <td>1284.217564</td>\n",
       "      <td>22.663050</td>\n",
       "      <td>1284.217564</td>\n",
       "      <td>232</td>\n",
       "    </tr>\n",
       "    <tr>\n",
       "      <th>233</th>\n",
       "      <td>2304.678022</td>\n",
       "      <td>29.447053</td>\n",
       "      <td>2304.678022</td>\n",
       "      <td>1277.763608</td>\n",
       "      <td>22.595957</td>\n",
       "      <td>1277.763608</td>\n",
       "      <td>233</td>\n",
       "    </tr>\n",
       "  </tbody>\n",
       "</table>\n",
       "</div>"
      ],
      "text/plain": [
       "        val_loss  val_mean_absolute_error  val_mean_squared_error  \\\n",
       "229  3387.197470                35.938905             3387.197470   \n",
       "230  3583.911405                37.970626             3583.911405   \n",
       "231  2351.273365                29.150850             2351.273365   \n",
       "232  3950.730103                39.408807             3950.730103   \n",
       "233  2304.678022                29.447053             2304.678022   \n",
       "\n",
       "            loss  mean_absolute_error  mean_squared_error  epoch  \n",
       "229  1287.723613            22.627280         1287.723613    229  \n",
       "230  1283.962439            22.762362         1283.962439    230  \n",
       "231  1294.638599            22.721704         1294.638599    231  \n",
       "232  1284.217564            22.663050         1284.217564    232  \n",
       "233  1277.763608            22.595957         1277.763608    233  "
      ]
     },
     "execution_count": 21,
     "metadata": {},
     "output_type": "execute_result"
    }
   ],
   "source": [
    "hist = pd.DataFrame(history.history)\n",
    "hist['epoch'] = history.epoch\n",
    "hist.tail()"
   ]
  },
  {
   "cell_type": "code",
   "execution_count": 59,
   "metadata": {},
   "outputs": [],
   "source": [
    "y_pred = model.predict(X_test)\n",
    "y_test = y_test.reshape(-1,1)"
   ]
  },
  {
   "cell_type": "code",
   "execution_count": 62,
   "metadata": {},
   "outputs": [
    {
     "data": {
      "text/plain": [
       "True"
      ]
     },
     "execution_count": 62,
     "metadata": {},
     "output_type": "execute_result"
    }
   ],
   "source": [
    "y_pred.shape == y_test.shape"
   ]
  },
  {
   "cell_type": "code",
   "execution_count": 63,
   "metadata": {},
   "outputs": [],
   "source": [
    "# Compute R-square score\n",
    "total_error = tf.reduce_sum(tf.square(tf.subtract(y_test, tf.reduce_mean(y_test))))\n",
    "unexplained_error = tf.reduce_sum(tf.square(tf.subtract(y_test, y_pred)))\n",
    "R_squared = tf.subtract(tf.cast(1.0, tf.int64), tf.div(unexplained_error, total_error))"
   ]
  },
  {
   "cell_type": "code",
   "execution_count": 66,
   "metadata": {},
   "outputs": [
    {
     "data": {
      "text/plain": [
       "1"
      ]
     },
     "execution_count": 66,
     "metadata": {},
     "output_type": "execute_result"
    }
   ],
   "source": [
    "R_squared.eval(session=session)"
   ]
  },
  {
   "cell_type": "code",
   "execution_count": 70,
   "metadata": {},
   "outputs": [],
   "source": [
    "r2 = 1.0 - (unexplained_error.eval(session=session) / total_error.eval(session=session))"
   ]
  },
  {
   "cell_type": "code",
   "execution_count": 71,
   "metadata": {},
   "outputs": [
    {
     "name": "stdout",
     "output_type": "stream",
     "text": [
      "R-squared (Pred)::0.9340234430634813\n"
     ]
    }
   ],
   "source": [
    "print(\"R-squared (Pred)::{}\".format(r2))"
   ]
  },
  {
   "cell_type": "code",
   "execution_count": null,
   "metadata": {},
   "outputs": [],
   "source": []
  }
 ],
 "metadata": {
  "kernelspec": {
   "display_name": "Python 3",
   "language": "python",
   "name": "python3"
  },
  "language_info": {
   "codemirror_mode": {
    "name": "ipython",
    "version": 3
   },
   "file_extension": ".py",
   "mimetype": "text/x-python",
   "name": "python",
   "nbconvert_exporter": "python",
   "pygments_lexer": "ipython3",
   "version": "3.6.8"
  }
 },
 "nbformat": 4,
 "nbformat_minor": 2
}
